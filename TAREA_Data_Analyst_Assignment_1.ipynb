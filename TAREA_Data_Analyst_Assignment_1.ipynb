{
  "cells": [
    {
      "cell_type": "markdown",
      "metadata": {
        "id": "view-in-github",
        "colab_type": "text"
      },
      "source": [
        "<a href=\"https://colab.research.google.com/github/EDSONRRs/DIPLOMADO/blob/main/TAREA_Data_Analyst_Assignment_1.ipynb\" target=\"_parent\"><img src=\"https://colab.research.google.com/assets/colab-badge.svg\" alt=\"Open In Colab\"/></a>"
      ]
    },
    {
      "cell_type": "markdown",
      "metadata": {
        "id": "aLnNZc0IvUn3"
      },
      "source": [
        "#Data Analyst Assignment"
      ]
    },
    {
      "cell_type": "markdown",
      "metadata": {
        "id": "G26Ao7nQvahf"
      },
      "source": [
        "## Introduction\n",
        "\n",
        "You are working with a US retail customer on a pilot deployment.  They are using technology to track their merchandise throughout their supply chain.  The flow of their supply is:\n",
        "\n",
        "*   **DC 1:**  Orders are filled and palletized.\n",
        "*   **Truck:** Pallets travel from the DC 1 to DC 2 via semi-truck.\n",
        "*   **DC 2:**  Pallets are unloaded, and additional merchandise may be added.  They are then reloaded onto a new truck.\n",
        "*   **Truck:** Pallets travel from DC 2 to the Store.\n",
        "*   **Store:** Pallets are unloaded, cases are removed, and stocked, and the empty cases are left behind the building awaiting pickup.\n",
        "\n",
        "Your job is to dig into the data and find compelling insights to show the value fo the technology and help move the contract from a pilot into a full scaled deployment.\n",
        "\n",
        "\n",
        "\n",
        "---"
      ]
    },
    {
      "cell_type": "markdown",
      "metadata": {
        "id": "QLGYgyeQwO00"
      },
      "source": [
        "## Part 0: Imports\n",
        "\n",
        "Import necessary packages and"
      ]
    },
    {
      "cell_type": "code",
      "execution_count": null,
      "metadata": {
        "id": "dOSZ-z9degpC"
      },
      "outputs": [],
      "source": [
        "# YOUR CODE HERE:\n",
        "import pandas as pd\n",
        "import matplotlib.pyplot as plt\n"
      ]
    },
    {
      "cell_type": "code",
      "source": [
        "df=pd.read_excel('/content/Assignment_1.xlsx')\n",
        "df"
      ],
      "metadata": {
        "colab": {
          "base_uri": "https://localhost:8080/",
          "height": 617
        },
        "id": "MppESa53ryny",
        "outputId": "3b409410-4957-4844-8e16-f333cbabceb8"
      },
      "execution_count": null,
      "outputs": [
        {
          "output_type": "execute_result",
          "data": {
            "text/plain": [
              "       asset_type  asset_id                           tag_id   Site  \\\n",
              "0            tote         2  (01)00850027865010(21)0082T0219   DC 1   \n",
              "1            tote         2  (01)00850027865010(21)0082T0219   DC 1   \n",
              "2            tote         2  (01)00850027865010(21)0082T0219   DC 1   \n",
              "3            tote         2  (01)00850027865010(21)0082T0219   DC 1   \n",
              "4            tote         2  (01)00850027865010(21)0082T0670   DC 1   \n",
              "...           ...       ...                              ...    ...   \n",
              "130056       tote       205  (01)00850027865010(21)0082T1137  Store   \n",
              "130057       tote       205  (01)00850027865010(21)0082T1137  Store   \n",
              "130058       tote       205  (01)00850027865010(21)0082T1137  Store   \n",
              "130059       tote       205  (01)00850027865010(21)0082T1137  Store   \n",
              "130060       tote       205  (01)00850027865010(21)0082T1137  Store   \n",
              "\n",
              "                     Zone     device_id                time_est       lat  \\\n",
              "0          dock_doors_DC1  7F9A8353E973 2022-08-02 11:59:26.628  47.79158   \n",
              "1          dock_doors_DC1  EC5B0499234F 2022-08-02 12:00:22.660  47.79158   \n",
              "2          dock_doors_DC1  7F9A8353E973 2022-08-02 12:01:11.234  47.79158   \n",
              "3          dock_doors_DC1  3D8B2BDB8673 2022-08-02 13:47:58.172  47.79158   \n",
              "4          dock_doors_DC1  7F9A8353E973 2022-08-02 11:58:55.049  47.79158   \n",
              "...                   ...           ...                     ...       ...   \n",
              "130056  store_front_Store  26AB1C9A2E41 2022-08-04 12:48:51.273  47.74923   \n",
              "130057  store_front_Store  26AB1C9A2E41 2022-08-04 12:49:58.699  47.74923   \n",
              "130058  store_front_Store  26AB1C9A2E41 2022-08-04 12:52:45.173  47.74923   \n",
              "130059  store_front_Store  26AB1C9A2E41 2022-08-04 12:53:48.228  47.74923   \n",
              "130060  store_front_Store  26AB1C9A2E41 2022-08-04 16:33:25.525  47.74923   \n",
              "\n",
              "             lng  Temperature_C  Temperature_F  \n",
              "0      -65.68902           23.0          73.40  \n",
              "1      -65.68902           23.0          73.40  \n",
              "2      -65.68902           23.0          73.40  \n",
              "3      -65.68902           23.5          74.30  \n",
              "4      -65.68902           23.0          73.40  \n",
              "...          ...            ...            ...  \n",
              "130056 -65.64101           23.1          73.58  \n",
              "130057 -65.64101           23.5          74.30  \n",
              "130058 -65.64101           23.0          73.40  \n",
              "130059 -65.64101           23.0          73.40  \n",
              "130060 -65.64101           24.0          75.20  \n",
              "\n",
              "[130061 rows x 11 columns]"
            ],
            "text/html": [
              "\n",
              "  <div id=\"df-6460c884-1002-4a30-96c2-511113c57053\" class=\"colab-df-container\">\n",
              "    <div>\n",
              "<style scoped>\n",
              "    .dataframe tbody tr th:only-of-type {\n",
              "        vertical-align: middle;\n",
              "    }\n",
              "\n",
              "    .dataframe tbody tr th {\n",
              "        vertical-align: top;\n",
              "    }\n",
              "\n",
              "    .dataframe thead th {\n",
              "        text-align: right;\n",
              "    }\n",
              "</style>\n",
              "<table border=\"1\" class=\"dataframe\">\n",
              "  <thead>\n",
              "    <tr style=\"text-align: right;\">\n",
              "      <th></th>\n",
              "      <th>asset_type</th>\n",
              "      <th>asset_id</th>\n",
              "      <th>tag_id</th>\n",
              "      <th>Site</th>\n",
              "      <th>Zone</th>\n",
              "      <th>device_id</th>\n",
              "      <th>time_est</th>\n",
              "      <th>lat</th>\n",
              "      <th>lng</th>\n",
              "      <th>Temperature_C</th>\n",
              "      <th>Temperature_F</th>\n",
              "    </tr>\n",
              "  </thead>\n",
              "  <tbody>\n",
              "    <tr>\n",
              "      <th>0</th>\n",
              "      <td>tote</td>\n",
              "      <td>2</td>\n",
              "      <td>(01)00850027865010(21)0082T0219</td>\n",
              "      <td>DC 1</td>\n",
              "      <td>dock_doors_DC1</td>\n",
              "      <td>7F9A8353E973</td>\n",
              "      <td>2022-08-02 11:59:26.628</td>\n",
              "      <td>47.79158</td>\n",
              "      <td>-65.68902</td>\n",
              "      <td>23.0</td>\n",
              "      <td>73.40</td>\n",
              "    </tr>\n",
              "    <tr>\n",
              "      <th>1</th>\n",
              "      <td>tote</td>\n",
              "      <td>2</td>\n",
              "      <td>(01)00850027865010(21)0082T0219</td>\n",
              "      <td>DC 1</td>\n",
              "      <td>dock_doors_DC1</td>\n",
              "      <td>EC5B0499234F</td>\n",
              "      <td>2022-08-02 12:00:22.660</td>\n",
              "      <td>47.79158</td>\n",
              "      <td>-65.68902</td>\n",
              "      <td>23.0</td>\n",
              "      <td>73.40</td>\n",
              "    </tr>\n",
              "    <tr>\n",
              "      <th>2</th>\n",
              "      <td>tote</td>\n",
              "      <td>2</td>\n",
              "      <td>(01)00850027865010(21)0082T0219</td>\n",
              "      <td>DC 1</td>\n",
              "      <td>dock_doors_DC1</td>\n",
              "      <td>7F9A8353E973</td>\n",
              "      <td>2022-08-02 12:01:11.234</td>\n",
              "      <td>47.79158</td>\n",
              "      <td>-65.68902</td>\n",
              "      <td>23.0</td>\n",
              "      <td>73.40</td>\n",
              "    </tr>\n",
              "    <tr>\n",
              "      <th>3</th>\n",
              "      <td>tote</td>\n",
              "      <td>2</td>\n",
              "      <td>(01)00850027865010(21)0082T0219</td>\n",
              "      <td>DC 1</td>\n",
              "      <td>dock_doors_DC1</td>\n",
              "      <td>3D8B2BDB8673</td>\n",
              "      <td>2022-08-02 13:47:58.172</td>\n",
              "      <td>47.79158</td>\n",
              "      <td>-65.68902</td>\n",
              "      <td>23.5</td>\n",
              "      <td>74.30</td>\n",
              "    </tr>\n",
              "    <tr>\n",
              "      <th>4</th>\n",
              "      <td>tote</td>\n",
              "      <td>2</td>\n",
              "      <td>(01)00850027865010(21)0082T0670</td>\n",
              "      <td>DC 1</td>\n",
              "      <td>dock_doors_DC1</td>\n",
              "      <td>7F9A8353E973</td>\n",
              "      <td>2022-08-02 11:58:55.049</td>\n",
              "      <td>47.79158</td>\n",
              "      <td>-65.68902</td>\n",
              "      <td>23.0</td>\n",
              "      <td>73.40</td>\n",
              "    </tr>\n",
              "    <tr>\n",
              "      <th>...</th>\n",
              "      <td>...</td>\n",
              "      <td>...</td>\n",
              "      <td>...</td>\n",
              "      <td>...</td>\n",
              "      <td>...</td>\n",
              "      <td>...</td>\n",
              "      <td>...</td>\n",
              "      <td>...</td>\n",
              "      <td>...</td>\n",
              "      <td>...</td>\n",
              "      <td>...</td>\n",
              "    </tr>\n",
              "    <tr>\n",
              "      <th>130056</th>\n",
              "      <td>tote</td>\n",
              "      <td>205</td>\n",
              "      <td>(01)00850027865010(21)0082T1137</td>\n",
              "      <td>Store</td>\n",
              "      <td>store_front_Store</td>\n",
              "      <td>26AB1C9A2E41</td>\n",
              "      <td>2022-08-04 12:48:51.273</td>\n",
              "      <td>47.74923</td>\n",
              "      <td>-65.64101</td>\n",
              "      <td>23.1</td>\n",
              "      <td>73.58</td>\n",
              "    </tr>\n",
              "    <tr>\n",
              "      <th>130057</th>\n",
              "      <td>tote</td>\n",
              "      <td>205</td>\n",
              "      <td>(01)00850027865010(21)0082T1137</td>\n",
              "      <td>Store</td>\n",
              "      <td>store_front_Store</td>\n",
              "      <td>26AB1C9A2E41</td>\n",
              "      <td>2022-08-04 12:49:58.699</td>\n",
              "      <td>47.74923</td>\n",
              "      <td>-65.64101</td>\n",
              "      <td>23.5</td>\n",
              "      <td>74.30</td>\n",
              "    </tr>\n",
              "    <tr>\n",
              "      <th>130058</th>\n",
              "      <td>tote</td>\n",
              "      <td>205</td>\n",
              "      <td>(01)00850027865010(21)0082T1137</td>\n",
              "      <td>Store</td>\n",
              "      <td>store_front_Store</td>\n",
              "      <td>26AB1C9A2E41</td>\n",
              "      <td>2022-08-04 12:52:45.173</td>\n",
              "      <td>47.74923</td>\n",
              "      <td>-65.64101</td>\n",
              "      <td>23.0</td>\n",
              "      <td>73.40</td>\n",
              "    </tr>\n",
              "    <tr>\n",
              "      <th>130059</th>\n",
              "      <td>tote</td>\n",
              "      <td>205</td>\n",
              "      <td>(01)00850027865010(21)0082T1137</td>\n",
              "      <td>Store</td>\n",
              "      <td>store_front_Store</td>\n",
              "      <td>26AB1C9A2E41</td>\n",
              "      <td>2022-08-04 12:53:48.228</td>\n",
              "      <td>47.74923</td>\n",
              "      <td>-65.64101</td>\n",
              "      <td>23.0</td>\n",
              "      <td>73.40</td>\n",
              "    </tr>\n",
              "    <tr>\n",
              "      <th>130060</th>\n",
              "      <td>tote</td>\n",
              "      <td>205</td>\n",
              "      <td>(01)00850027865010(21)0082T1137</td>\n",
              "      <td>Store</td>\n",
              "      <td>store_front_Store</td>\n",
              "      <td>26AB1C9A2E41</td>\n",
              "      <td>2022-08-04 16:33:25.525</td>\n",
              "      <td>47.74923</td>\n",
              "      <td>-65.64101</td>\n",
              "      <td>24.0</td>\n",
              "      <td>75.20</td>\n",
              "    </tr>\n",
              "  </tbody>\n",
              "</table>\n",
              "<p>130061 rows × 11 columns</p>\n",
              "</div>\n",
              "    <div class=\"colab-df-buttons\">\n",
              "\n",
              "  <div class=\"colab-df-container\">\n",
              "    <button class=\"colab-df-convert\" onclick=\"convertToInteractive('df-6460c884-1002-4a30-96c2-511113c57053')\"\n",
              "            title=\"Convert this dataframe to an interactive table.\"\n",
              "            style=\"display:none;\">\n",
              "\n",
              "  <svg xmlns=\"http://www.w3.org/2000/svg\" height=\"24px\" viewBox=\"0 -960 960 960\">\n",
              "    <path d=\"M120-120v-720h720v720H120Zm60-500h600v-160H180v160Zm220 220h160v-160H400v160Zm0 220h160v-160H400v160ZM180-400h160v-160H180v160Zm440 0h160v-160H620v160ZM180-180h160v-160H180v160Zm440 0h160v-160H620v160Z\"/>\n",
              "  </svg>\n",
              "    </button>\n",
              "\n",
              "  <style>\n",
              "    .colab-df-container {\n",
              "      display:flex;\n",
              "      gap: 12px;\n",
              "    }\n",
              "\n",
              "    .colab-df-convert {\n",
              "      background-color: #E8F0FE;\n",
              "      border: none;\n",
              "      border-radius: 50%;\n",
              "      cursor: pointer;\n",
              "      display: none;\n",
              "      fill: #1967D2;\n",
              "      height: 32px;\n",
              "      padding: 0 0 0 0;\n",
              "      width: 32px;\n",
              "    }\n",
              "\n",
              "    .colab-df-convert:hover {\n",
              "      background-color: #E2EBFA;\n",
              "      box-shadow: 0px 1px 2px rgba(60, 64, 67, 0.3), 0px 1px 3px 1px rgba(60, 64, 67, 0.15);\n",
              "      fill: #174EA6;\n",
              "    }\n",
              "\n",
              "    .colab-df-buttons div {\n",
              "      margin-bottom: 4px;\n",
              "    }\n",
              "\n",
              "    [theme=dark] .colab-df-convert {\n",
              "      background-color: #3B4455;\n",
              "      fill: #D2E3FC;\n",
              "    }\n",
              "\n",
              "    [theme=dark] .colab-df-convert:hover {\n",
              "      background-color: #434B5C;\n",
              "      box-shadow: 0px 1px 3px 1px rgba(0, 0, 0, 0.15);\n",
              "      filter: drop-shadow(0px 1px 2px rgba(0, 0, 0, 0.3));\n",
              "      fill: #FFFFFF;\n",
              "    }\n",
              "  </style>\n",
              "\n",
              "    <script>\n",
              "      const buttonEl =\n",
              "        document.querySelector('#df-6460c884-1002-4a30-96c2-511113c57053 button.colab-df-convert');\n",
              "      buttonEl.style.display =\n",
              "        google.colab.kernel.accessAllowed ? 'block' : 'none';\n",
              "\n",
              "      async function convertToInteractive(key) {\n",
              "        const element = document.querySelector('#df-6460c884-1002-4a30-96c2-511113c57053');\n",
              "        const dataTable =\n",
              "          await google.colab.kernel.invokeFunction('convertToInteractive',\n",
              "                                                    [key], {});\n",
              "        if (!dataTable) return;\n",
              "\n",
              "        const docLinkHtml = 'Like what you see? Visit the ' +\n",
              "          '<a target=\"_blank\" href=https://colab.research.google.com/notebooks/data_table.ipynb>data table notebook</a>'\n",
              "          + ' to learn more about interactive tables.';\n",
              "        element.innerHTML = '';\n",
              "        dataTable['output_type'] = 'display_data';\n",
              "        await google.colab.output.renderOutput(dataTable, element);\n",
              "        const docLink = document.createElement('div');\n",
              "        docLink.innerHTML = docLinkHtml;\n",
              "        element.appendChild(docLink);\n",
              "      }\n",
              "    </script>\n",
              "  </div>\n",
              "\n",
              "\n",
              "<div id=\"df-4bf9daf2-0727-4ecc-94c8-e06d4e64b677\">\n",
              "  <button class=\"colab-df-quickchart\" onclick=\"quickchart('df-4bf9daf2-0727-4ecc-94c8-e06d4e64b677')\"\n",
              "            title=\"Suggest charts\"\n",
              "            style=\"display:none;\">\n",
              "\n",
              "<svg xmlns=\"http://www.w3.org/2000/svg\" height=\"24px\"viewBox=\"0 0 24 24\"\n",
              "     width=\"24px\">\n",
              "    <g>\n",
              "        <path d=\"M19 3H5c-1.1 0-2 .9-2 2v14c0 1.1.9 2 2 2h14c1.1 0 2-.9 2-2V5c0-1.1-.9-2-2-2zM9 17H7v-7h2v7zm4 0h-2V7h2v10zm4 0h-2v-4h2v4z\"/>\n",
              "    </g>\n",
              "</svg>\n",
              "  </button>\n",
              "\n",
              "<style>\n",
              "  .colab-df-quickchart {\n",
              "      --bg-color: #E8F0FE;\n",
              "      --fill-color: #1967D2;\n",
              "      --hover-bg-color: #E2EBFA;\n",
              "      --hover-fill-color: #174EA6;\n",
              "      --disabled-fill-color: #AAA;\n",
              "      --disabled-bg-color: #DDD;\n",
              "  }\n",
              "\n",
              "  [theme=dark] .colab-df-quickchart {\n",
              "      --bg-color: #3B4455;\n",
              "      --fill-color: #D2E3FC;\n",
              "      --hover-bg-color: #434B5C;\n",
              "      --hover-fill-color: #FFFFFF;\n",
              "      --disabled-bg-color: #3B4455;\n",
              "      --disabled-fill-color: #666;\n",
              "  }\n",
              "\n",
              "  .colab-df-quickchart {\n",
              "    background-color: var(--bg-color);\n",
              "    border: none;\n",
              "    border-radius: 50%;\n",
              "    cursor: pointer;\n",
              "    display: none;\n",
              "    fill: var(--fill-color);\n",
              "    height: 32px;\n",
              "    padding: 0;\n",
              "    width: 32px;\n",
              "  }\n",
              "\n",
              "  .colab-df-quickchart:hover {\n",
              "    background-color: var(--hover-bg-color);\n",
              "    box-shadow: 0 1px 2px rgba(60, 64, 67, 0.3), 0 1px 3px 1px rgba(60, 64, 67, 0.15);\n",
              "    fill: var(--button-hover-fill-color);\n",
              "  }\n",
              "\n",
              "  .colab-df-quickchart-complete:disabled,\n",
              "  .colab-df-quickchart-complete:disabled:hover {\n",
              "    background-color: var(--disabled-bg-color);\n",
              "    fill: var(--disabled-fill-color);\n",
              "    box-shadow: none;\n",
              "  }\n",
              "\n",
              "  .colab-df-spinner {\n",
              "    border: 2px solid var(--fill-color);\n",
              "    border-color: transparent;\n",
              "    border-bottom-color: var(--fill-color);\n",
              "    animation:\n",
              "      spin 1s steps(1) infinite;\n",
              "  }\n",
              "\n",
              "  @keyframes spin {\n",
              "    0% {\n",
              "      border-color: transparent;\n",
              "      border-bottom-color: var(--fill-color);\n",
              "      border-left-color: var(--fill-color);\n",
              "    }\n",
              "    20% {\n",
              "      border-color: transparent;\n",
              "      border-left-color: var(--fill-color);\n",
              "      border-top-color: var(--fill-color);\n",
              "    }\n",
              "    30% {\n",
              "      border-color: transparent;\n",
              "      border-left-color: var(--fill-color);\n",
              "      border-top-color: var(--fill-color);\n",
              "      border-right-color: var(--fill-color);\n",
              "    }\n",
              "    40% {\n",
              "      border-color: transparent;\n",
              "      border-right-color: var(--fill-color);\n",
              "      border-top-color: var(--fill-color);\n",
              "    }\n",
              "    60% {\n",
              "      border-color: transparent;\n",
              "      border-right-color: var(--fill-color);\n",
              "    }\n",
              "    80% {\n",
              "      border-color: transparent;\n",
              "      border-right-color: var(--fill-color);\n",
              "      border-bottom-color: var(--fill-color);\n",
              "    }\n",
              "    90% {\n",
              "      border-color: transparent;\n",
              "      border-bottom-color: var(--fill-color);\n",
              "    }\n",
              "  }\n",
              "</style>\n",
              "\n",
              "  <script>\n",
              "    async function quickchart(key) {\n",
              "      const quickchartButtonEl =\n",
              "        document.querySelector('#' + key + ' button');\n",
              "      quickchartButtonEl.disabled = true;  // To prevent multiple clicks.\n",
              "      quickchartButtonEl.classList.add('colab-df-spinner');\n",
              "      try {\n",
              "        const charts = await google.colab.kernel.invokeFunction(\n",
              "            'suggestCharts', [key], {});\n",
              "      } catch (error) {\n",
              "        console.error('Error during call to suggestCharts:', error);\n",
              "      }\n",
              "      quickchartButtonEl.classList.remove('colab-df-spinner');\n",
              "      quickchartButtonEl.classList.add('colab-df-quickchart-complete');\n",
              "    }\n",
              "    (() => {\n",
              "      let quickchartButtonEl =\n",
              "        document.querySelector('#df-4bf9daf2-0727-4ecc-94c8-e06d4e64b677 button');\n",
              "      quickchartButtonEl.style.display =\n",
              "        google.colab.kernel.accessAllowed ? 'block' : 'none';\n",
              "    })();\n",
              "  </script>\n",
              "</div>\n",
              "\n",
              "  <div id=\"id_21a09d8f-aeca-4f44-89e7-7745fe3da8dd\">\n",
              "    <style>\n",
              "      .colab-df-generate {\n",
              "        background-color: #E8F0FE;\n",
              "        border: none;\n",
              "        border-radius: 50%;\n",
              "        cursor: pointer;\n",
              "        display: none;\n",
              "        fill: #1967D2;\n",
              "        height: 32px;\n",
              "        padding: 0 0 0 0;\n",
              "        width: 32px;\n",
              "      }\n",
              "\n",
              "      .colab-df-generate:hover {\n",
              "        background-color: #E2EBFA;\n",
              "        box-shadow: 0px 1px 2px rgba(60, 64, 67, 0.3), 0px 1px 3px 1px rgba(60, 64, 67, 0.15);\n",
              "        fill: #174EA6;\n",
              "      }\n",
              "\n",
              "      [theme=dark] .colab-df-generate {\n",
              "        background-color: #3B4455;\n",
              "        fill: #D2E3FC;\n",
              "      }\n",
              "\n",
              "      [theme=dark] .colab-df-generate:hover {\n",
              "        background-color: #434B5C;\n",
              "        box-shadow: 0px 1px 3px 1px rgba(0, 0, 0, 0.15);\n",
              "        filter: drop-shadow(0px 1px 2px rgba(0, 0, 0, 0.3));\n",
              "        fill: #FFFFFF;\n",
              "      }\n",
              "    </style>\n",
              "    <button class=\"colab-df-generate\" onclick=\"generateWithVariable('df')\"\n",
              "            title=\"Generate code using this dataframe.\"\n",
              "            style=\"display:none;\">\n",
              "\n",
              "  <svg xmlns=\"http://www.w3.org/2000/svg\" height=\"24px\"viewBox=\"0 0 24 24\"\n",
              "       width=\"24px\">\n",
              "    <path d=\"M7,19H8.4L18.45,9,17,7.55,7,17.6ZM5,21V16.75L18.45,3.32a2,2,0,0,1,2.83,0l1.4,1.43a1.91,1.91,0,0,1,.58,1.4,1.91,1.91,0,0,1-.58,1.4L9.25,21ZM18.45,9,17,7.55Zm-12,3A5.31,5.31,0,0,0,4.9,8.1,5.31,5.31,0,0,0,1,6.5,5.31,5.31,0,0,0,4.9,4.9,5.31,5.31,0,0,0,6.5,1,5.31,5.31,0,0,0,8.1,4.9,5.31,5.31,0,0,0,12,6.5,5.46,5.46,0,0,0,6.5,12Z\"/>\n",
              "  </svg>\n",
              "    </button>\n",
              "    <script>\n",
              "      (() => {\n",
              "      const buttonEl =\n",
              "        document.querySelector('#id_21a09d8f-aeca-4f44-89e7-7745fe3da8dd button.colab-df-generate');\n",
              "      buttonEl.style.display =\n",
              "        google.colab.kernel.accessAllowed ? 'block' : 'none';\n",
              "\n",
              "      buttonEl.onclick = () => {\n",
              "        google.colab.notebook.generateWithVariable('df');\n",
              "      }\n",
              "      })();\n",
              "    </script>\n",
              "  </div>\n",
              "\n",
              "    </div>\n",
              "  </div>\n"
            ],
            "application/vnd.google.colaboratory.intrinsic+json": {
              "type": "dataframe",
              "variable_name": "df"
            }
          },
          "metadata": {},
          "execution_count": 3
        }
      ]
    },
    {
      "cell_type": "code",
      "source": [
        "df.asset_id.unique()"
      ],
      "metadata": {
        "colab": {
          "base_uri": "https://localhost:8080/"
        },
        "id": "Z5SXh_67nFjV",
        "outputId": "0bfe8eed-3d05-4de7-91f0-294c358ea9c8"
      },
      "execution_count": null,
      "outputs": [
        {
          "output_type": "execute_result",
          "data": {
            "text/plain": [
              "array([  2,  37,  52,  58,  59,  62,  70,  84, 102, 145, 149, 159, 167,\n",
              "       170, 181, 182, 200, 205])"
            ]
          },
          "metadata": {},
          "execution_count": 48
        }
      ]
    },
    {
      "cell_type": "markdown",
      "metadata": {
        "id": "ilure2qpw4lT"
      },
      "source": [
        "### Dataset Overview\n",
        "\n",
        "* Site:  A large space that could contain multiple readers. Ex: DC 1.\n",
        "* Zone:  Point of interest. These represent areas in which repeaters are installed. These can be thought of as sub-zones.  Ex: Dock Doors.\n",
        "* Asset ID: The unique ID of the asset.\n",
        "* Asset Type: The type of thing that is detected (ie tote).\n",
        "* Device ID: The unique gateway reader ID that detected the device in the zone (there can be multiple in one zone).\n",
        "* Time est: The time in EST.\n",
        "* Lon: Longituge\n",
        "* Lat: Latitude\n",
        "* Temperature_C / F: Temperature in Celsius, Fahrentheit"
      ]
    },
    {
      "cell_type": "markdown",
      "metadata": {
        "id": "0PcG1lJdwopq"
      },
      "source": [
        "## PART 1: Data Overview"
      ]
    },
    {
      "cell_type": "markdown",
      "metadata": {
        "id": "tLLUIhxZ0wvF"
      },
      "source": [
        "### Question 1:\n",
        "\n",
        "* How many unique cases were we tracking throughout this pilot. (1 pt)\n",
        "* What are the unique zones we could see (1 pt)\n",
        "* How many POI's are in each Zone. (2 pts)\n"
      ]
    },
    {
      "cell_type": "code",
      "execution_count": null,
      "metadata": {
        "id": "PDMC6O4h0uqD",
        "colab": {
          "base_uri": "https://localhost:8080/"
        },
        "outputId": "b5267630-2043-4f8c-cca0-584a74e47610"
      },
      "outputs": [
        {
          "output_type": "stream",
          "name": "stdout",
          "text": [
            "The unique cases that we tracking throughout are :\" [  2  37  52  58  59  62  70  84 102 145 149 159 167 170 181 182 200 205]\n"
          ]
        }
      ],
      "source": [
        "# YOUR CODE HERE:\n",
        "print('1.-The unique cases that we tracking throughout are :\"', df.asset_id.unique())\n",
        "\n"
      ]
    },
    {
      "cell_type": "code",
      "source": [
        "print('2.-The unique zones that we could see are:',df.Zone.unique())"
      ],
      "metadata": {
        "colab": {
          "base_uri": "https://localhost:8080/"
        },
        "id": "MVvJRw9Zwq7w",
        "outputId": "80204c2e-b1d6-4c6e-dfd4-3c5f7036dbc9"
      },
      "execution_count": null,
      "outputs": [
        {
          "output_type": "stream",
          "name": "stdout",
          "text": [
            "2.-The unique xones that we could see are: ['dock_doors_DC1' 'dock_doors_DC2' 'Forklift3_DC1' 'pallet_assembly_DC1'\n",
            " 'PhoneKit1Bridge' 'PhoneKit2Bridge' 'PhoneKit2GW' 'point_of_sale_Store'\n",
            " 'receiving_Store' 'staging_DC1' 'staging_DC2' 'store_back_Store'\n",
            " 'store_front_Store' 'Forklift1_DC1' 'PhoneKit1GW']\n"
          ]
        }
      ]
    },
    {
      "cell_type": "code",
      "source": [
        "df.Zone.nunique()"
      ],
      "metadata": {
        "colab": {
          "base_uri": "https://localhost:8080/"
        },
        "id": "_zNM8kpKwz0u",
        "outputId": "0a6a9e1a-9616-4fb7-885f-2ba843ac0d8e"
      },
      "execution_count": null,
      "outputs": [
        {
          "output_type": "execute_result",
          "data": {
            "text/plain": [
              "15"
            ]
          },
          "metadata": {},
          "execution_count": 9
        }
      ]
    },
    {
      "cell_type": "markdown",
      "metadata": {
        "id": "5SaHgmjN1sfO"
      },
      "source": [
        "### Question 2:\n",
        "\n",
        "* What is the temperature range we see?  (1pt)\n",
        "* Where is temperature the highest and lowest (1pt)"
      ]
    },
    {
      "cell_type": "code",
      "source": [
        "df.Site.unique(0)"
      ],
      "metadata": {
        "colab": {
          "base_uri": "https://localhost:8080/"
        },
        "id": "SlLpoMgPfVt1",
        "outputId": "68a52960-c0a1-4f9c-aba7-8fef4ccc61b8"
      },
      "execution_count": null,
      "outputs": [
        {
          "output_type": "execute_result",
          "data": {
            "text/plain": [
              "array(['DC 1', 'DC 2', 'Transit', 'Store'], dtype=object)"
            ]
          },
          "metadata": {},
          "execution_count": 42
        }
      ]
    },
    {
      "cell_type": "code",
      "execution_count": null,
      "metadata": {
        "id": "Yv6mfo8K1_uD",
        "colab": {
          "base_uri": "https://localhost:8080/"
        },
        "outputId": "f1e08ea9-3cf5-4182-c79e-e84b873b637a"
      },
      "outputs": [
        {
          "output_type": "stream",
          "name": "stdout",
          "text": [
            "The Temperature range is  19.0 C to 44.0 C\n"
          ]
        }
      ],
      "source": [
        "# YOUR CODE HERE:\n",
        "print('The Temperature range is ',df.Temperature_C.min(),'C to',df.Temperature_C.max(),'C')"
      ]
    },
    {
      "cell_type": "code",
      "source": [
        "print('2.-The zone where temperature is highest are \\n',(df.groupby(['Site']).Temperature_C.max()).idxmax())\n",
        "print('2.-The zone where temperature is lowest are\\n',(df.groupby(['Site']).Temperature_C.min()).idxmin())\n"
      ],
      "metadata": {
        "colab": {
          "base_uri": "https://localhost:8080/"
        },
        "id": "5biAF47JQMME",
        "outputId": "24d87016-9df0-4152-a287-f265a22026ec"
      },
      "execution_count": null,
      "outputs": [
        {
          "output_type": "stream",
          "name": "stdout",
          "text": [
            "2.-The zone where temperature is highest are \n",
            " Store\n",
            "2.-The zone where temperature is lowest are\n",
            " Store\n"
          ]
        }
      ]
    },
    {
      "cell_type": "code",
      "source": [
        "df.device_id.unique()"
      ],
      "metadata": {
        "colab": {
          "base_uri": "https://localhost:8080/"
        },
        "id": "ptk77e-ziXAy",
        "outputId": "4f90b664-ac63-4a6b-91bc-46e973416633"
      },
      "execution_count": null,
      "outputs": [
        {
          "output_type": "execute_result",
          "data": {
            "text/plain": [
              "array(['7F9A8353E973', 'EC5B0499234F', '3D8B2BDB8673', '379663A695EF',\n",
              "       '2FC8DD79125D', '6EEDDB0D6881', '7436A2B82DC1', 'F96E864E4F18',\n",
              "       '747F99C09A08', '69F24D678C1C', '5B2B2FDFD70A2202', 'EEEB01ADE266',\n",
              "       '4710E397D1FA', 'DC4FBAED57C9', 'AC8DEAE6FD79', '36BA90E8F876',\n",
              "       '770B915B6470', '99A61D1647F7', '758ECEA02EA7', '2B4DC74C0878',\n",
              "       '58DB59BDCE08', 'F2F715EFF03F', '08D0A74A7C1D', '6AF833197EE3',\n",
              "       'C8C08D22E0B1', '26AB1C9A2E41', '11977BD156C6', 'C7FA15BE7D1B',\n",
              "       'E2F5A528ABFC', '38A44056604C8F70', 'GW0CDC7EDDDEB8',\n",
              "       '4841FD2819D9', 'F57AA72F5B15', '0B2FD04933B5', '9AC4A4154B28',\n",
              "       'E6D3501BACAE', 'BAE5E8CF978C', '4F6D8CFDC0BD'], dtype=object)"
            ]
          },
          "metadata": {},
          "execution_count": 47
        }
      ]
    },
    {
      "cell_type": "code",
      "source": [
        "AI=df.asset_id.unique()\n",
        "AI=AI[0:1]\n",
        "AI"
      ],
      "metadata": {
        "colab": {
          "base_uri": "https://localhost:8080/"
        },
        "id": "POjvYplw1d43",
        "outputId": "e0840840-8ed4-41ef-9d62-1b64c798ffb7"
      },
      "execution_count": null,
      "outputs": [
        {
          "output_type": "execute_result",
          "data": {
            "text/plain": [
              "array([2])"
            ]
          },
          "metadata": {},
          "execution_count": 196
        }
      ]
    },
    {
      "cell_type": "code",
      "source": [
        "def funcion(c,l2,d2):\n",
        "  A=((str(d2['time_est'][c])).split())[0].split('-')[2]\n",
        "  B=((str(d2['time_est'][l2])).split())[0].split('-')[2]\n",
        "  #print((str(d2['time_est'][l2])).split())[0]\n",
        "  A=int(A)\n",
        "  B=int(B)\n",
        "  print(abs(A-B),A,B)\n",
        "  return abs(A-B)"
      ],
      "metadata": {
        "id": "yTslpKUvtyOa"
      },
      "execution_count": null,
      "outputs": []
    },
    {
      "cell_type": "code",
      "source": [
        "l2=0\n",
        "c=0"
      ],
      "metadata": {
        "id": "9C4Hrj9CCqOd"
      },
      "execution_count": null,
      "outputs": []
    },
    {
      "cell_type": "code",
      "source": [
        "\n",
        "for i in AI:\n",
        "  d2=df[df.asset_id==i]\n",
        "  l2=l2+len(d2)-1\n",
        "  print(l2)\n",
        "  print(funcion(c,l2,d2))\n",
        "  c=c+len(d2)-1\n"
      ],
      "metadata": {
        "colab": {
          "base_uri": "https://localhost:8080/"
        },
        "id": "7jJQEqi-sZ6A",
        "outputId": "f8fca062-98a6-4a66-d2cd-a2ff8ecf2920"
      },
      "execution_count": null,
      "outputs": [
        {
          "output_type": "stream",
          "name": "stdout",
          "text": [
            "6768\n",
            "3 2 5\n",
            "3\n"
          ]
        }
      ]
    },
    {
      "cell_type": "code",
      "source": [
        "pd.DataFrame(df.groupby(['asset_id', 'Site', 'Zone']).time_est).head(30)\n"
      ],
      "metadata": {
        "colab": {
          "base_uri": "https://localhost:8080/",
          "height": 990
        },
        "id": "G0EhSCK_qwKI",
        "outputId": "100d5532-7b9e-40e5-c72c-ef67ca890570"
      },
      "execution_count": null,
      "outputs": [
        {
          "output_type": "execute_result",
          "data": {
            "text/plain": [
              "                                  0  \\\n",
              "0          (2, DC 1, Forklift3_DC1)   \n",
              "1         (2, DC 1, dock_doors_DC1)   \n",
              "2    (2, DC 1, pallet_assembly_DC1)   \n",
              "3            (2, DC 1, staging_DC1)   \n",
              "4         (2, DC 2, dock_doors_DC2)   \n",
              "5            (2, DC 2, staging_DC2)   \n",
              "6   (2, Store, point_of_sale_Store)   \n",
              "7       (2, Store, receiving_Store)   \n",
              "8      (2, Store, store_back_Store)   \n",
              "9     (2, Store, store_front_Store)   \n",
              "10    (2, Transit, PhoneKit1Bridge)   \n",
              "11    (2, Transit, PhoneKit2Bridge)   \n",
              "12        (2, Transit, PhoneKit2GW)   \n",
              "13        (37, DC 1, Forklift1_DC1)   \n",
              "14        (37, DC 1, Forklift3_DC1)   \n",
              "15       (37, DC 1, dock_doors_DC1)   \n",
              "16  (37, DC 1, pallet_assembly_DC1)   \n",
              "17          (37, DC 1, staging_DC1)   \n",
              "18       (37, DC 2, dock_doors_DC2)   \n",
              "19          (37, DC 2, staging_DC2)   \n",
              "20     (37, Store, receiving_Store)   \n",
              "21    (37, Store, store_back_Store)   \n",
              "22   (37, Store, store_front_Store)   \n",
              "23   (37, Transit, PhoneKit1Bridge)   \n",
              "24       (37, Transit, PhoneKit1GW)   \n",
              "25   (37, Transit, PhoneKit2Bridge)   \n",
              "26       (37, Transit, PhoneKit2GW)   \n",
              "27        (52, DC 1, Forklift1_DC1)   \n",
              "28        (52, DC 1, Forklift3_DC1)   \n",
              "29       (52, DC 1, dock_doors_DC1)   \n",
              "\n",
              "                                                    1  \n",
              "0   13   2022-08-02 12:03:48.817\n",
              "14   2022-08-02 1...  \n",
              "1   0   2022-08-02 11:59:26.628\n",
              "1   2022-08-02 12:...  \n",
              "2   22   2022-08-02 10:59:58.887\n",
              "23   2022-08-02 1...  \n",
              "3   1536   2022-08-02 11:46:53.446\n",
              "1537   2022-08-...  \n",
              "4   5    2022-08-03 13:22:09.038\n",
              "6    2022-08-03 1...  \n",
              "5   1608   2022-08-04 03:39:20.359\n",
              "Name: time_est,...  \n",
              "6   241   2022-08-04 10:58:04.546\n",
              "242   2022-08-05...  \n",
              "7   253    2022-08-04 08:35:59.046\n",
              "254    2022-08-...  \n",
              "8   1609   2022-08-04 08:44:46.291\n",
              "1610   2022-08-...  \n",
              "9   6597   2022-08-04 08:39:43.562\n",
              "6598   2022-08-...  \n",
              "10  86    2022-08-02 13:52:30.665\n",
              "87    2022-08-02...  \n",
              "11  127   2022-08-02 14:46:16.221\n",
              "128   2022-08-02...  \n",
              "12  215   2022-08-02 14:29:24.919\n",
              "216   2022-08-02...  \n",
              "13  6777   2022-08-02 13:24:00.263\n",
              "6778   2022-08-...  \n",
              "14  6781   2022-08-02 12:04:06.885\n",
              "6782   2022-08-...  \n",
              "15  6769   2022-08-02 12:00:24.040\n",
              "6770   2022-08-...  \n",
              "16  6788   2022-08-02 11:21:32.281\n",
              "6789   2022-08-...  \n",
              "17  18591   2022-08-02 11:59:26.292\n",
              "18592   2022-0...  \n",
              "18  6771   2022-08-03 23:54:59.899\n",
              "6772   2022-08-...  \n",
              "19  18626   2022-08-04 03:39:52.437\n",
              "18627   2022-0...  \n",
              "20  13118   2022-08-04 08:35:50.815\n",
              "13119   2022-0...  \n",
              "21  18629   2022-08-04 09:53:23.961\n",
              "18630   2022-0...  \n",
              "22  19563   2022-08-04 09:59:26.486\n",
              "19564   2022-0...  \n",
              "23  6824   2022-08-02 13:57:13.948\n",
              "6825   2022-08-...  \n",
              "24  9810   2022-08-03 14:48:53.327\n",
              "9811   2022-08-...  \n",
              "25  9821    2022-08-02 13:48:43.409\n",
              "9822    2022-0...  \n",
              "26  13027   2022-08-02 13:49:15.897\n",
              "13028   2022-0...  \n",
              "27  19611   2022-08-02 13:20:32.790\n",
              "19612   2022-0...  \n",
              "28  19614   2022-08-02 12:11:02.095\n",
              "19615   2022-0...  \n",
              "29  19610   2022-08-02 12:02:55.971\n",
              "Name: time_est...  "
            ],
            "text/html": [
              "\n",
              "  <div id=\"df-32a28c3b-a694-4d99-abce-d4c09fb194da\" class=\"colab-df-container\">\n",
              "    <div>\n",
              "<style scoped>\n",
              "    .dataframe tbody tr th:only-of-type {\n",
              "        vertical-align: middle;\n",
              "    }\n",
              "\n",
              "    .dataframe tbody tr th {\n",
              "        vertical-align: top;\n",
              "    }\n",
              "\n",
              "    .dataframe thead th {\n",
              "        text-align: right;\n",
              "    }\n",
              "</style>\n",
              "<table border=\"1\" class=\"dataframe\">\n",
              "  <thead>\n",
              "    <tr style=\"text-align: right;\">\n",
              "      <th></th>\n",
              "      <th>0</th>\n",
              "      <th>1</th>\n",
              "    </tr>\n",
              "  </thead>\n",
              "  <tbody>\n",
              "    <tr>\n",
              "      <th>0</th>\n",
              "      <td>(2, DC 1, Forklift3_DC1)</td>\n",
              "      <td>13   2022-08-02 12:03:48.817\n",
              "14   2022-08-02 1...</td>\n",
              "    </tr>\n",
              "    <tr>\n",
              "      <th>1</th>\n",
              "      <td>(2, DC 1, dock_doors_DC1)</td>\n",
              "      <td>0   2022-08-02 11:59:26.628\n",
              "1   2022-08-02 12:...</td>\n",
              "    </tr>\n",
              "    <tr>\n",
              "      <th>2</th>\n",
              "      <td>(2, DC 1, pallet_assembly_DC1)</td>\n",
              "      <td>22   2022-08-02 10:59:58.887\n",
              "23   2022-08-02 1...</td>\n",
              "    </tr>\n",
              "    <tr>\n",
              "      <th>3</th>\n",
              "      <td>(2, DC 1, staging_DC1)</td>\n",
              "      <td>1536   2022-08-02 11:46:53.446\n",
              "1537   2022-08-...</td>\n",
              "    </tr>\n",
              "    <tr>\n",
              "      <th>4</th>\n",
              "      <td>(2, DC 2, dock_doors_DC2)</td>\n",
              "      <td>5    2022-08-03 13:22:09.038\n",
              "6    2022-08-03 1...</td>\n",
              "    </tr>\n",
              "    <tr>\n",
              "      <th>5</th>\n",
              "      <td>(2, DC 2, staging_DC2)</td>\n",
              "      <td>1608   2022-08-04 03:39:20.359\n",
              "Name: time_est,...</td>\n",
              "    </tr>\n",
              "    <tr>\n",
              "      <th>6</th>\n",
              "      <td>(2, Store, point_of_sale_Store)</td>\n",
              "      <td>241   2022-08-04 10:58:04.546\n",
              "242   2022-08-05...</td>\n",
              "    </tr>\n",
              "    <tr>\n",
              "      <th>7</th>\n",
              "      <td>(2, Store, receiving_Store)</td>\n",
              "      <td>253    2022-08-04 08:35:59.046\n",
              "254    2022-08-...</td>\n",
              "    </tr>\n",
              "    <tr>\n",
              "      <th>8</th>\n",
              "      <td>(2, Store, store_back_Store)</td>\n",
              "      <td>1609   2022-08-04 08:44:46.291\n",
              "1610   2022-08-...</td>\n",
              "    </tr>\n",
              "    <tr>\n",
              "      <th>9</th>\n",
              "      <td>(2, Store, store_front_Store)</td>\n",
              "      <td>6597   2022-08-04 08:39:43.562\n",
              "6598   2022-08-...</td>\n",
              "    </tr>\n",
              "    <tr>\n",
              "      <th>10</th>\n",
              "      <td>(2, Transit, PhoneKit1Bridge)</td>\n",
              "      <td>86    2022-08-02 13:52:30.665\n",
              "87    2022-08-02...</td>\n",
              "    </tr>\n",
              "    <tr>\n",
              "      <th>11</th>\n",
              "      <td>(2, Transit, PhoneKit2Bridge)</td>\n",
              "      <td>127   2022-08-02 14:46:16.221\n",
              "128   2022-08-02...</td>\n",
              "    </tr>\n",
              "    <tr>\n",
              "      <th>12</th>\n",
              "      <td>(2, Transit, PhoneKit2GW)</td>\n",
              "      <td>215   2022-08-02 14:29:24.919\n",
              "216   2022-08-02...</td>\n",
              "    </tr>\n",
              "    <tr>\n",
              "      <th>13</th>\n",
              "      <td>(37, DC 1, Forklift1_DC1)</td>\n",
              "      <td>6777   2022-08-02 13:24:00.263\n",
              "6778   2022-08-...</td>\n",
              "    </tr>\n",
              "    <tr>\n",
              "      <th>14</th>\n",
              "      <td>(37, DC 1, Forklift3_DC1)</td>\n",
              "      <td>6781   2022-08-02 12:04:06.885\n",
              "6782   2022-08-...</td>\n",
              "    </tr>\n",
              "    <tr>\n",
              "      <th>15</th>\n",
              "      <td>(37, DC 1, dock_doors_DC1)</td>\n",
              "      <td>6769   2022-08-02 12:00:24.040\n",
              "6770   2022-08-...</td>\n",
              "    </tr>\n",
              "    <tr>\n",
              "      <th>16</th>\n",
              "      <td>(37, DC 1, pallet_assembly_DC1)</td>\n",
              "      <td>6788   2022-08-02 11:21:32.281\n",
              "6789   2022-08-...</td>\n",
              "    </tr>\n",
              "    <tr>\n",
              "      <th>17</th>\n",
              "      <td>(37, DC 1, staging_DC1)</td>\n",
              "      <td>18591   2022-08-02 11:59:26.292\n",
              "18592   2022-0...</td>\n",
              "    </tr>\n",
              "    <tr>\n",
              "      <th>18</th>\n",
              "      <td>(37, DC 2, dock_doors_DC2)</td>\n",
              "      <td>6771   2022-08-03 23:54:59.899\n",
              "6772   2022-08-...</td>\n",
              "    </tr>\n",
              "    <tr>\n",
              "      <th>19</th>\n",
              "      <td>(37, DC 2, staging_DC2)</td>\n",
              "      <td>18626   2022-08-04 03:39:52.437\n",
              "18627   2022-0...</td>\n",
              "    </tr>\n",
              "    <tr>\n",
              "      <th>20</th>\n",
              "      <td>(37, Store, receiving_Store)</td>\n",
              "      <td>13118   2022-08-04 08:35:50.815\n",
              "13119   2022-0...</td>\n",
              "    </tr>\n",
              "    <tr>\n",
              "      <th>21</th>\n",
              "      <td>(37, Store, store_back_Store)</td>\n",
              "      <td>18629   2022-08-04 09:53:23.961\n",
              "18630   2022-0...</td>\n",
              "    </tr>\n",
              "    <tr>\n",
              "      <th>22</th>\n",
              "      <td>(37, Store, store_front_Store)</td>\n",
              "      <td>19563   2022-08-04 09:59:26.486\n",
              "19564   2022-0...</td>\n",
              "    </tr>\n",
              "    <tr>\n",
              "      <th>23</th>\n",
              "      <td>(37, Transit, PhoneKit1Bridge)</td>\n",
              "      <td>6824   2022-08-02 13:57:13.948\n",
              "6825   2022-08-...</td>\n",
              "    </tr>\n",
              "    <tr>\n",
              "      <th>24</th>\n",
              "      <td>(37, Transit, PhoneKit1GW)</td>\n",
              "      <td>9810   2022-08-03 14:48:53.327\n",
              "9811   2022-08-...</td>\n",
              "    </tr>\n",
              "    <tr>\n",
              "      <th>25</th>\n",
              "      <td>(37, Transit, PhoneKit2Bridge)</td>\n",
              "      <td>9821    2022-08-02 13:48:43.409\n",
              "9822    2022-0...</td>\n",
              "    </tr>\n",
              "    <tr>\n",
              "      <th>26</th>\n",
              "      <td>(37, Transit, PhoneKit2GW)</td>\n",
              "      <td>13027   2022-08-02 13:49:15.897\n",
              "13028   2022-0...</td>\n",
              "    </tr>\n",
              "    <tr>\n",
              "      <th>27</th>\n",
              "      <td>(52, DC 1, Forklift1_DC1)</td>\n",
              "      <td>19611   2022-08-02 13:20:32.790\n",
              "19612   2022-0...</td>\n",
              "    </tr>\n",
              "    <tr>\n",
              "      <th>28</th>\n",
              "      <td>(52, DC 1, Forklift3_DC1)</td>\n",
              "      <td>19614   2022-08-02 12:11:02.095\n",
              "19615   2022-0...</td>\n",
              "    </tr>\n",
              "    <tr>\n",
              "      <th>29</th>\n",
              "      <td>(52, DC 1, dock_doors_DC1)</td>\n",
              "      <td>19610   2022-08-02 12:02:55.971\n",
              "Name: time_est...</td>\n",
              "    </tr>\n",
              "  </tbody>\n",
              "</table>\n",
              "</div>\n",
              "    <div class=\"colab-df-buttons\">\n",
              "\n",
              "  <div class=\"colab-df-container\">\n",
              "    <button class=\"colab-df-convert\" onclick=\"convertToInteractive('df-32a28c3b-a694-4d99-abce-d4c09fb194da')\"\n",
              "            title=\"Convert this dataframe to an interactive table.\"\n",
              "            style=\"display:none;\">\n",
              "\n",
              "  <svg xmlns=\"http://www.w3.org/2000/svg\" height=\"24px\" viewBox=\"0 -960 960 960\">\n",
              "    <path d=\"M120-120v-720h720v720H120Zm60-500h600v-160H180v160Zm220 220h160v-160H400v160Zm0 220h160v-160H400v160ZM180-400h160v-160H180v160Zm440 0h160v-160H620v160ZM180-180h160v-160H180v160Zm440 0h160v-160H620v160Z\"/>\n",
              "  </svg>\n",
              "    </button>\n",
              "\n",
              "  <style>\n",
              "    .colab-df-container {\n",
              "      display:flex;\n",
              "      gap: 12px;\n",
              "    }\n",
              "\n",
              "    .colab-df-convert {\n",
              "      background-color: #E8F0FE;\n",
              "      border: none;\n",
              "      border-radius: 50%;\n",
              "      cursor: pointer;\n",
              "      display: none;\n",
              "      fill: #1967D2;\n",
              "      height: 32px;\n",
              "      padding: 0 0 0 0;\n",
              "      width: 32px;\n",
              "    }\n",
              "\n",
              "    .colab-df-convert:hover {\n",
              "      background-color: #E2EBFA;\n",
              "      box-shadow: 0px 1px 2px rgba(60, 64, 67, 0.3), 0px 1px 3px 1px rgba(60, 64, 67, 0.15);\n",
              "      fill: #174EA6;\n",
              "    }\n",
              "\n",
              "    .colab-df-buttons div {\n",
              "      margin-bottom: 4px;\n",
              "    }\n",
              "\n",
              "    [theme=dark] .colab-df-convert {\n",
              "      background-color: #3B4455;\n",
              "      fill: #D2E3FC;\n",
              "    }\n",
              "\n",
              "    [theme=dark] .colab-df-convert:hover {\n",
              "      background-color: #434B5C;\n",
              "      box-shadow: 0px 1px 3px 1px rgba(0, 0, 0, 0.15);\n",
              "      filter: drop-shadow(0px 1px 2px rgba(0, 0, 0, 0.3));\n",
              "      fill: #FFFFFF;\n",
              "    }\n",
              "  </style>\n",
              "\n",
              "    <script>\n",
              "      const buttonEl =\n",
              "        document.querySelector('#df-32a28c3b-a694-4d99-abce-d4c09fb194da button.colab-df-convert');\n",
              "      buttonEl.style.display =\n",
              "        google.colab.kernel.accessAllowed ? 'block' : 'none';\n",
              "\n",
              "      async function convertToInteractive(key) {\n",
              "        const element = document.querySelector('#df-32a28c3b-a694-4d99-abce-d4c09fb194da');\n",
              "        const dataTable =\n",
              "          await google.colab.kernel.invokeFunction('convertToInteractive',\n",
              "                                                    [key], {});\n",
              "        if (!dataTable) return;\n",
              "\n",
              "        const docLinkHtml = 'Like what you see? Visit the ' +\n",
              "          '<a target=\"_blank\" href=https://colab.research.google.com/notebooks/data_table.ipynb>data table notebook</a>'\n",
              "          + ' to learn more about interactive tables.';\n",
              "        element.innerHTML = '';\n",
              "        dataTable['output_type'] = 'display_data';\n",
              "        await google.colab.output.renderOutput(dataTable, element);\n",
              "        const docLink = document.createElement('div');\n",
              "        docLink.innerHTML = docLinkHtml;\n",
              "        element.appendChild(docLink);\n",
              "      }\n",
              "    </script>\n",
              "  </div>\n",
              "\n",
              "\n",
              "<div id=\"df-7af3466c-655b-4a1d-ae4f-cf1e876788d7\">\n",
              "  <button class=\"colab-df-quickchart\" onclick=\"quickchart('df-7af3466c-655b-4a1d-ae4f-cf1e876788d7')\"\n",
              "            title=\"Suggest charts\"\n",
              "            style=\"display:none;\">\n",
              "\n",
              "<svg xmlns=\"http://www.w3.org/2000/svg\" height=\"24px\"viewBox=\"0 0 24 24\"\n",
              "     width=\"24px\">\n",
              "    <g>\n",
              "        <path d=\"M19 3H5c-1.1 0-2 .9-2 2v14c0 1.1.9 2 2 2h14c1.1 0 2-.9 2-2V5c0-1.1-.9-2-2-2zM9 17H7v-7h2v7zm4 0h-2V7h2v10zm4 0h-2v-4h2v4z\"/>\n",
              "    </g>\n",
              "</svg>\n",
              "  </button>\n",
              "\n",
              "<style>\n",
              "  .colab-df-quickchart {\n",
              "      --bg-color: #E8F0FE;\n",
              "      --fill-color: #1967D2;\n",
              "      --hover-bg-color: #E2EBFA;\n",
              "      --hover-fill-color: #174EA6;\n",
              "      --disabled-fill-color: #AAA;\n",
              "      --disabled-bg-color: #DDD;\n",
              "  }\n",
              "\n",
              "  [theme=dark] .colab-df-quickchart {\n",
              "      --bg-color: #3B4455;\n",
              "      --fill-color: #D2E3FC;\n",
              "      --hover-bg-color: #434B5C;\n",
              "      --hover-fill-color: #FFFFFF;\n",
              "      --disabled-bg-color: #3B4455;\n",
              "      --disabled-fill-color: #666;\n",
              "  }\n",
              "\n",
              "  .colab-df-quickchart {\n",
              "    background-color: var(--bg-color);\n",
              "    border: none;\n",
              "    border-radius: 50%;\n",
              "    cursor: pointer;\n",
              "    display: none;\n",
              "    fill: var(--fill-color);\n",
              "    height: 32px;\n",
              "    padding: 0;\n",
              "    width: 32px;\n",
              "  }\n",
              "\n",
              "  .colab-df-quickchart:hover {\n",
              "    background-color: var(--hover-bg-color);\n",
              "    box-shadow: 0 1px 2px rgba(60, 64, 67, 0.3), 0 1px 3px 1px rgba(60, 64, 67, 0.15);\n",
              "    fill: var(--button-hover-fill-color);\n",
              "  }\n",
              "\n",
              "  .colab-df-quickchart-complete:disabled,\n",
              "  .colab-df-quickchart-complete:disabled:hover {\n",
              "    background-color: var(--disabled-bg-color);\n",
              "    fill: var(--disabled-fill-color);\n",
              "    box-shadow: none;\n",
              "  }\n",
              "\n",
              "  .colab-df-spinner {\n",
              "    border: 2px solid var(--fill-color);\n",
              "    border-color: transparent;\n",
              "    border-bottom-color: var(--fill-color);\n",
              "    animation:\n",
              "      spin 1s steps(1) infinite;\n",
              "  }\n",
              "\n",
              "  @keyframes spin {\n",
              "    0% {\n",
              "      border-color: transparent;\n",
              "      border-bottom-color: var(--fill-color);\n",
              "      border-left-color: var(--fill-color);\n",
              "    }\n",
              "    20% {\n",
              "      border-color: transparent;\n",
              "      border-left-color: var(--fill-color);\n",
              "      border-top-color: var(--fill-color);\n",
              "    }\n",
              "    30% {\n",
              "      border-color: transparent;\n",
              "      border-left-color: var(--fill-color);\n",
              "      border-top-color: var(--fill-color);\n",
              "      border-right-color: var(--fill-color);\n",
              "    }\n",
              "    40% {\n",
              "      border-color: transparent;\n",
              "      border-right-color: var(--fill-color);\n",
              "      border-top-color: var(--fill-color);\n",
              "    }\n",
              "    60% {\n",
              "      border-color: transparent;\n",
              "      border-right-color: var(--fill-color);\n",
              "    }\n",
              "    80% {\n",
              "      border-color: transparent;\n",
              "      border-right-color: var(--fill-color);\n",
              "      border-bottom-color: var(--fill-color);\n",
              "    }\n",
              "    90% {\n",
              "      border-color: transparent;\n",
              "      border-bottom-color: var(--fill-color);\n",
              "    }\n",
              "  }\n",
              "</style>\n",
              "\n",
              "  <script>\n",
              "    async function quickchart(key) {\n",
              "      const quickchartButtonEl =\n",
              "        document.querySelector('#' + key + ' button');\n",
              "      quickchartButtonEl.disabled = true;  // To prevent multiple clicks.\n",
              "      quickchartButtonEl.classList.add('colab-df-spinner');\n",
              "      try {\n",
              "        const charts = await google.colab.kernel.invokeFunction(\n",
              "            'suggestCharts', [key], {});\n",
              "      } catch (error) {\n",
              "        console.error('Error during call to suggestCharts:', error);\n",
              "      }\n",
              "      quickchartButtonEl.classList.remove('colab-df-spinner');\n",
              "      quickchartButtonEl.classList.add('colab-df-quickchart-complete');\n",
              "    }\n",
              "    (() => {\n",
              "      let quickchartButtonEl =\n",
              "        document.querySelector('#df-7af3466c-655b-4a1d-ae4f-cf1e876788d7 button');\n",
              "      quickchartButtonEl.style.display =\n",
              "        google.colab.kernel.accessAllowed ? 'block' : 'none';\n",
              "    })();\n",
              "  </script>\n",
              "</div>\n",
              "\n",
              "    </div>\n",
              "  </div>\n"
            ],
            "application/vnd.google.colaboratory.intrinsic+json": {
              "type": "dataframe",
              "summary": "{\n  \"name\": \"pd\",\n  \"rows\": 30,\n  \"fields\": [\n    {\n      \"column\": 0,\n      \"properties\": {\n        \"dtype\": \"string\",\n        \"num_unique_values\": 30,\n        \"samples\": [\n          [\n            \"52\",\n            \"DC 1\",\n            \"Forklift1_DC1\"\n          ],\n          [\n            \"37\",\n            \"DC 1\",\n            \"dock_doors_DC1\"\n          ],\n          [\n            \"37\",\n            \"Transit\",\n            \"PhoneKit1Bridge\"\n          ]\n        ],\n        \"semantic_type\": \"\",\n        \"description\": \"\"\n      }\n    },\n    {\n      \"column\": 1,\n      \"properties\": {\n        \"dtype\": \"object\",\n        \"semantic_type\": \"\",\n        \"description\": \"\"\n      }\n    }\n  ]\n}"
            }
          },
          "metadata": {},
          "execution_count": 58
        }
      ]
    },
    {
      "cell_type": "markdown",
      "metadata": {
        "id": "83ZytoZ02Oih"
      },
      "source": [
        "## Part 2: The Journey of a Case"
      ]
    },
    {
      "cell_type": "markdown",
      "metadata": {
        "id": "LT32Svy42BR8"
      },
      "source": [
        "### Question 3:\n",
        "\n",
        "* Create a visualization that shows where a case was at over time at the zone or POI level. Imagine that this would be included in your presentation to the customer. (Non techical audience) (3 pts)"
      ]
    },
    {
      "cell_type": "code",
      "source": [
        "df2=df[df.asset_id==2]\n",
        "#df2\n",
        "Time_prom=pd.DataFrame(df2.groupby(['Zone']).time_est.mean())\n",
        "TimP=Time_prom.reset_index()\n",
        "TimP.columns"
      ],
      "metadata": {
        "id": "TAIM9ESuy0iS",
        "colab": {
          "base_uri": "https://localhost:8080/"
        },
        "outputId": "1dd37c64-4f83-48a0-86fe-9cc00cbe2a4f"
      },
      "execution_count": null,
      "outputs": [
        {
          "output_type": "execute_result",
          "data": {
            "text/plain": [
              "Index(['Zone', 'time_est'], dtype='object')"
            ]
          },
          "metadata": {},
          "execution_count": 4
        }
      ]
    },
    {
      "cell_type": "code",
      "source": [
        "fig = px.bar(TimP, x = 'Zone', y = 'time_est')\n",
        "fig.update_layout(\n",
        "    yaxis_title = 'Tiempo',\n",
        "    xaxis_title = 'Zona',\n",
        "    title_text = 'Tiempo de Caja con ID 2 a traves de las zonas'\n",
        ")\n",
        "fig"
      ],
      "metadata": {
        "colab": {
          "base_uri": "https://localhost:8080/",
          "height": 542
        },
        "id": "vlKRtUlvtY3m",
        "outputId": "23f8c9ce-dd30-4ad6-9c0e-c41993abf0d7"
      },
      "execution_count": null,
      "outputs": [
        {
          "output_type": "display_data",
          "data": {
            "text/html": [
              "<html>\n",
              "<head><meta charset=\"utf-8\" /></head>\n",
              "<body>\n",
              "    <div>            <script src=\"https://cdnjs.cloudflare.com/ajax/libs/mathjax/2.7.5/MathJax.js?config=TeX-AMS-MML_SVG\"></script><script type=\"text/javascript\">if (window.MathJax && window.MathJax.Hub && window.MathJax.Hub.Config) {window.MathJax.Hub.Config({SVG: {font: \"STIX-Web\"}});}</script>                <script type=\"text/javascript\">window.PlotlyConfig = {MathJaxConfig: 'local'};</script>\n",
              "        <script charset=\"utf-8\" src=\"https://cdn.plot.ly/plotly-2.24.1.min.js\"></script>                <div id=\"32bf75ca-8419-48a1-a6cf-8cdcf38f6324\" class=\"plotly-graph-div\" style=\"height:525px; width:100%;\"></div>            <script type=\"text/javascript\">                                    window.PLOTLYENV=window.PLOTLYENV || {};                                    if (document.getElementById(\"32bf75ca-8419-48a1-a6cf-8cdcf38f6324\")) {                    Plotly.newPlot(                        \"32bf75ca-8419-48a1-a6cf-8cdcf38f6324\",                        [{\"alignmentgroup\":\"True\",\"hovertemplate\":\"Zone=%{x}\\u003cbr\\u003etime_est=%{y}\\u003cextra\\u003e\\u003c\\u002fextra\\u003e\",\"legendgroup\":\"\",\"marker\":{\"color\":\"#636efa\",\"pattern\":{\"shape\":\"\"}},\"name\":\"\",\"offsetgroup\":\"\",\"orientation\":\"v\",\"showlegend\":false,\"textposition\":\"auto\",\"x\":[\"Forklift3_DC1\",\"PhoneKit1Bridge\",\"PhoneKit2Bridge\",\"PhoneKit2GW\",\"dock_doors_DC1\",\"dock_doors_DC2\",\"pallet_assembly_DC1\",\"point_of_sale_Store\",\"receiving_Store\",\"staging_DC1\",\"staging_DC2\",\"store_back_Store\",\"store_front_Store\"],\"xaxis\":\"x\",\"y\":[\"2022-08-02T12:55:21.525222\",\"2022-08-03T03:38:27.697780\",\"2022-08-03T01:13:58.139488\",\"2022-08-03T02:54:15.239076\",\"2022-08-02T12:21:34.748599\",\"2022-08-03T12:58:39.703750\",\"2022-08-02T11:36:39.967828\",\"2022-08-05T03:17:10.581499\",\"2022-08-05T03:45:58.671663\",\"2022-08-02T12:50:10.991652\",\"2022-08-04T03:39:20.359000\",\"2022-08-04T22:15:25.677139\",\"2022-08-04T17:23:55.054116\"],\"yaxis\":\"y\",\"type\":\"bar\"}],                        {\"template\":{\"data\":{\"histogram2dcontour\":[{\"type\":\"histogram2dcontour\",\"colorbar\":{\"outlinewidth\":0,\"ticks\":\"\"},\"colorscale\":[[0.0,\"#0d0887\"],[0.1111111111111111,\"#46039f\"],[0.2222222222222222,\"#7201a8\"],[0.3333333333333333,\"#9c179e\"],[0.4444444444444444,\"#bd3786\"],[0.5555555555555556,\"#d8576b\"],[0.6666666666666666,\"#ed7953\"],[0.7777777777777778,\"#fb9f3a\"],[0.8888888888888888,\"#fdca26\"],[1.0,\"#f0f921\"]]}],\"choropleth\":[{\"type\":\"choropleth\",\"colorbar\":{\"outlinewidth\":0,\"ticks\":\"\"}}],\"histogram2d\":[{\"type\":\"histogram2d\",\"colorbar\":{\"outlinewidth\":0,\"ticks\":\"\"},\"colorscale\":[[0.0,\"#0d0887\"],[0.1111111111111111,\"#46039f\"],[0.2222222222222222,\"#7201a8\"],[0.3333333333333333,\"#9c179e\"],[0.4444444444444444,\"#bd3786\"],[0.5555555555555556,\"#d8576b\"],[0.6666666666666666,\"#ed7953\"],[0.7777777777777778,\"#fb9f3a\"],[0.8888888888888888,\"#fdca26\"],[1.0,\"#f0f921\"]]}],\"heatmap\":[{\"type\":\"heatmap\",\"colorbar\":{\"outlinewidth\":0,\"ticks\":\"\"},\"colorscale\":[[0.0,\"#0d0887\"],[0.1111111111111111,\"#46039f\"],[0.2222222222222222,\"#7201a8\"],[0.3333333333333333,\"#9c179e\"],[0.4444444444444444,\"#bd3786\"],[0.5555555555555556,\"#d8576b\"],[0.6666666666666666,\"#ed7953\"],[0.7777777777777778,\"#fb9f3a\"],[0.8888888888888888,\"#fdca26\"],[1.0,\"#f0f921\"]]}],\"heatmapgl\":[{\"type\":\"heatmapgl\",\"colorbar\":{\"outlinewidth\":0,\"ticks\":\"\"},\"colorscale\":[[0.0,\"#0d0887\"],[0.1111111111111111,\"#46039f\"],[0.2222222222222222,\"#7201a8\"],[0.3333333333333333,\"#9c179e\"],[0.4444444444444444,\"#bd3786\"],[0.5555555555555556,\"#d8576b\"],[0.6666666666666666,\"#ed7953\"],[0.7777777777777778,\"#fb9f3a\"],[0.8888888888888888,\"#fdca26\"],[1.0,\"#f0f921\"]]}],\"contourcarpet\":[{\"type\":\"contourcarpet\",\"colorbar\":{\"outlinewidth\":0,\"ticks\":\"\"}}],\"contour\":[{\"type\":\"contour\",\"colorbar\":{\"outlinewidth\":0,\"ticks\":\"\"},\"colorscale\":[[0.0,\"#0d0887\"],[0.1111111111111111,\"#46039f\"],[0.2222222222222222,\"#7201a8\"],[0.3333333333333333,\"#9c179e\"],[0.4444444444444444,\"#bd3786\"],[0.5555555555555556,\"#d8576b\"],[0.6666666666666666,\"#ed7953\"],[0.7777777777777778,\"#fb9f3a\"],[0.8888888888888888,\"#fdca26\"],[1.0,\"#f0f921\"]]}],\"surface\":[{\"type\":\"surface\",\"colorbar\":{\"outlinewidth\":0,\"ticks\":\"\"},\"colorscale\":[[0.0,\"#0d0887\"],[0.1111111111111111,\"#46039f\"],[0.2222222222222222,\"#7201a8\"],[0.3333333333333333,\"#9c179e\"],[0.4444444444444444,\"#bd3786\"],[0.5555555555555556,\"#d8576b\"],[0.6666666666666666,\"#ed7953\"],[0.7777777777777778,\"#fb9f3a\"],[0.8888888888888888,\"#fdca26\"],[1.0,\"#f0f921\"]]}],\"mesh3d\":[{\"type\":\"mesh3d\",\"colorbar\":{\"outlinewidth\":0,\"ticks\":\"\"}}],\"scatter\":[{\"fillpattern\":{\"fillmode\":\"overlay\",\"size\":10,\"solidity\":0.2},\"type\":\"scatter\"}],\"parcoords\":[{\"type\":\"parcoords\",\"line\":{\"colorbar\":{\"outlinewidth\":0,\"ticks\":\"\"}}}],\"scatterpolargl\":[{\"type\":\"scatterpolargl\",\"marker\":{\"colorbar\":{\"outlinewidth\":0,\"ticks\":\"\"}}}],\"bar\":[{\"error_x\":{\"color\":\"#2a3f5f\"},\"error_y\":{\"color\":\"#2a3f5f\"},\"marker\":{\"line\":{\"color\":\"#E5ECF6\",\"width\":0.5},\"pattern\":{\"fillmode\":\"overlay\",\"size\":10,\"solidity\":0.2}},\"type\":\"bar\"}],\"scattergeo\":[{\"type\":\"scattergeo\",\"marker\":{\"colorbar\":{\"outlinewidth\":0,\"ticks\":\"\"}}}],\"scatterpolar\":[{\"type\":\"scatterpolar\",\"marker\":{\"colorbar\":{\"outlinewidth\":0,\"ticks\":\"\"}}}],\"histogram\":[{\"marker\":{\"pattern\":{\"fillmode\":\"overlay\",\"size\":10,\"solidity\":0.2}},\"type\":\"histogram\"}],\"scattergl\":[{\"type\":\"scattergl\",\"marker\":{\"colorbar\":{\"outlinewidth\":0,\"ticks\":\"\"}}}],\"scatter3d\":[{\"type\":\"scatter3d\",\"line\":{\"colorbar\":{\"outlinewidth\":0,\"ticks\":\"\"}},\"marker\":{\"colorbar\":{\"outlinewidth\":0,\"ticks\":\"\"}}}],\"scattermapbox\":[{\"type\":\"scattermapbox\",\"marker\":{\"colorbar\":{\"outlinewidth\":0,\"ticks\":\"\"}}}],\"scatterternary\":[{\"type\":\"scatterternary\",\"marker\":{\"colorbar\":{\"outlinewidth\":0,\"ticks\":\"\"}}}],\"scattercarpet\":[{\"type\":\"scattercarpet\",\"marker\":{\"colorbar\":{\"outlinewidth\":0,\"ticks\":\"\"}}}],\"carpet\":[{\"aaxis\":{\"endlinecolor\":\"#2a3f5f\",\"gridcolor\":\"white\",\"linecolor\":\"white\",\"minorgridcolor\":\"white\",\"startlinecolor\":\"#2a3f5f\"},\"baxis\":{\"endlinecolor\":\"#2a3f5f\",\"gridcolor\":\"white\",\"linecolor\":\"white\",\"minorgridcolor\":\"white\",\"startlinecolor\":\"#2a3f5f\"},\"type\":\"carpet\"}],\"table\":[{\"cells\":{\"fill\":{\"color\":\"#EBF0F8\"},\"line\":{\"color\":\"white\"}},\"header\":{\"fill\":{\"color\":\"#C8D4E3\"},\"line\":{\"color\":\"white\"}},\"type\":\"table\"}],\"barpolar\":[{\"marker\":{\"line\":{\"color\":\"#E5ECF6\",\"width\":0.5},\"pattern\":{\"fillmode\":\"overlay\",\"size\":10,\"solidity\":0.2}},\"type\":\"barpolar\"}],\"pie\":[{\"automargin\":true,\"type\":\"pie\"}]},\"layout\":{\"autotypenumbers\":\"strict\",\"colorway\":[\"#636efa\",\"#EF553B\",\"#00cc96\",\"#ab63fa\",\"#FFA15A\",\"#19d3f3\",\"#FF6692\",\"#B6E880\",\"#FF97FF\",\"#FECB52\"],\"font\":{\"color\":\"#2a3f5f\"},\"hovermode\":\"closest\",\"hoverlabel\":{\"align\":\"left\"},\"paper_bgcolor\":\"white\",\"plot_bgcolor\":\"#E5ECF6\",\"polar\":{\"bgcolor\":\"#E5ECF6\",\"angularaxis\":{\"gridcolor\":\"white\",\"linecolor\":\"white\",\"ticks\":\"\"},\"radialaxis\":{\"gridcolor\":\"white\",\"linecolor\":\"white\",\"ticks\":\"\"}},\"ternary\":{\"bgcolor\":\"#E5ECF6\",\"aaxis\":{\"gridcolor\":\"white\",\"linecolor\":\"white\",\"ticks\":\"\"},\"baxis\":{\"gridcolor\":\"white\",\"linecolor\":\"white\",\"ticks\":\"\"},\"caxis\":{\"gridcolor\":\"white\",\"linecolor\":\"white\",\"ticks\":\"\"}},\"coloraxis\":{\"colorbar\":{\"outlinewidth\":0,\"ticks\":\"\"}},\"colorscale\":{\"sequential\":[[0.0,\"#0d0887\"],[0.1111111111111111,\"#46039f\"],[0.2222222222222222,\"#7201a8\"],[0.3333333333333333,\"#9c179e\"],[0.4444444444444444,\"#bd3786\"],[0.5555555555555556,\"#d8576b\"],[0.6666666666666666,\"#ed7953\"],[0.7777777777777778,\"#fb9f3a\"],[0.8888888888888888,\"#fdca26\"],[1.0,\"#f0f921\"]],\"sequentialminus\":[[0.0,\"#0d0887\"],[0.1111111111111111,\"#46039f\"],[0.2222222222222222,\"#7201a8\"],[0.3333333333333333,\"#9c179e\"],[0.4444444444444444,\"#bd3786\"],[0.5555555555555556,\"#d8576b\"],[0.6666666666666666,\"#ed7953\"],[0.7777777777777778,\"#fb9f3a\"],[0.8888888888888888,\"#fdca26\"],[1.0,\"#f0f921\"]],\"diverging\":[[0,\"#8e0152\"],[0.1,\"#c51b7d\"],[0.2,\"#de77ae\"],[0.3,\"#f1b6da\"],[0.4,\"#fde0ef\"],[0.5,\"#f7f7f7\"],[0.6,\"#e6f5d0\"],[0.7,\"#b8e186\"],[0.8,\"#7fbc41\"],[0.9,\"#4d9221\"],[1,\"#276419\"]]},\"xaxis\":{\"gridcolor\":\"white\",\"linecolor\":\"white\",\"ticks\":\"\",\"title\":{\"standoff\":15},\"zerolinecolor\":\"white\",\"automargin\":true,\"zerolinewidth\":2},\"yaxis\":{\"gridcolor\":\"white\",\"linecolor\":\"white\",\"ticks\":\"\",\"title\":{\"standoff\":15},\"zerolinecolor\":\"white\",\"automargin\":true,\"zerolinewidth\":2},\"scene\":{\"xaxis\":{\"backgroundcolor\":\"#E5ECF6\",\"gridcolor\":\"white\",\"linecolor\":\"white\",\"showbackground\":true,\"ticks\":\"\",\"zerolinecolor\":\"white\",\"gridwidth\":2},\"yaxis\":{\"backgroundcolor\":\"#E5ECF6\",\"gridcolor\":\"white\",\"linecolor\":\"white\",\"showbackground\":true,\"ticks\":\"\",\"zerolinecolor\":\"white\",\"gridwidth\":2},\"zaxis\":{\"backgroundcolor\":\"#E5ECF6\",\"gridcolor\":\"white\",\"linecolor\":\"white\",\"showbackground\":true,\"ticks\":\"\",\"zerolinecolor\":\"white\",\"gridwidth\":2}},\"shapedefaults\":{\"line\":{\"color\":\"#2a3f5f\"}},\"annotationdefaults\":{\"arrowcolor\":\"#2a3f5f\",\"arrowhead\":0,\"arrowwidth\":1},\"geo\":{\"bgcolor\":\"white\",\"landcolor\":\"#E5ECF6\",\"subunitcolor\":\"white\",\"showland\":true,\"showlakes\":true,\"lakecolor\":\"white\"},\"title\":{\"x\":0.05},\"mapbox\":{\"style\":\"light\"}}},\"xaxis\":{\"anchor\":\"y\",\"domain\":[0.0,1.0],\"title\":{\"text\":\"Zona\"}},\"yaxis\":{\"anchor\":\"x\",\"domain\":[0.0,1.0],\"title\":{\"text\":\"Tiempo\"}},\"legend\":{\"tracegroupgap\":0},\"margin\":{\"t\":60},\"barmode\":\"relative\",\"title\":{\"text\":\"Tiempo de Caja con ID 2 a traves de las zonas\"}},                        {\"responsive\": true}                    ).then(function(){\n",
              "                            \n",
              "var gd = document.getElementById('32bf75ca-8419-48a1-a6cf-8cdcf38f6324');\n",
              "var x = new MutationObserver(function (mutations, observer) {{\n",
              "        var display = window.getComputedStyle(gd).display;\n",
              "        if (!display || display === 'none') {{\n",
              "            console.log([gd, 'removed!']);\n",
              "            Plotly.purge(gd);\n",
              "            observer.disconnect();\n",
              "        }}\n",
              "}});\n",
              "\n",
              "// Listen for the removal of the full notebook cells\n",
              "var notebookContainer = gd.closest('#notebook-container');\n",
              "if (notebookContainer) {{\n",
              "    x.observe(notebookContainer, {childList: true});\n",
              "}}\n",
              "\n",
              "// Listen for the clearing of the current output cell\n",
              "var outputEl = gd.closest('.output');\n",
              "if (outputEl) {{\n",
              "    x.observe(outputEl, {childList: true});\n",
              "}}\n",
              "\n",
              "                        })                };                            </script>        </div>\n",
              "</body>\n",
              "</html>"
            ]
          },
          "metadata": {}
        }
      ]
    },
    {
      "cell_type": "markdown",
      "metadata": {
        "id": "n7nBbEZ42vvP"
      },
      "source": [
        "### Question 4:\n",
        "\n",
        "* Visualize how the temperatue changes over time along its journey.  Imagine that this would be included in your presentation to the customer. (Non techical audience) (4 pts)\n",
        "\n"
      ]
    },
    {
      "cell_type": "code",
      "source": [
        "#pd.DataFrame(df.groupby(['asset_id', 'Site', 'Zone']).time_est)\n",
        "df2=df[df.asset_id==2]\n",
        "Temp1_prom=pd.DataFrame(df2.groupby(['Site']).Temperature_C.mean())\n",
        "TP=Temp1_prom.reset_index()"
      ],
      "metadata": {
        "id": "B4E1w6OzRK9z"
      },
      "execution_count": null,
      "outputs": []
    },
    {
      "cell_type": "code",
      "source": [
        "TP"
      ],
      "metadata": {
        "id": "AfTnzTUGnxfX"
      },
      "execution_count": null,
      "outputs": []
    },
    {
      "cell_type": "code",
      "source": [
        "fig = px.bar(TP, x = 'Site', y = 'Temperature_C')\n",
        "fig.update_layout(\n",
        "    yaxis_title = 'Temperatura',\n",
        "    xaxis_title = 'Zona',\n",
        "    title_text = 'Temperatura de Caja con ID 2 a traves de las zonas'\n",
        ")\n",
        "fig"
      ],
      "metadata": {
        "colab": {
          "base_uri": "https://localhost:8080/",
          "height": 542
        },
        "id": "ZfB-TpywamZE",
        "outputId": "0bfdec55-1b61-4be6-fc88-21c4c48867f4"
      },
      "execution_count": null,
      "outputs": [
        {
          "output_type": "display_data",
          "data": {
            "text/html": [
              "<html>\n",
              "<head><meta charset=\"utf-8\" /></head>\n",
              "<body>\n",
              "    <div>            <script src=\"https://cdnjs.cloudflare.com/ajax/libs/mathjax/2.7.5/MathJax.js?config=TeX-AMS-MML_SVG\"></script><script type=\"text/javascript\">if (window.MathJax && window.MathJax.Hub && window.MathJax.Hub.Config) {window.MathJax.Hub.Config({SVG: {font: \"STIX-Web\"}});}</script>                <script type=\"text/javascript\">window.PlotlyConfig = {MathJaxConfig: 'local'};</script>\n",
              "        <script charset=\"utf-8\" src=\"https://cdn.plot.ly/plotly-2.24.1.min.js\"></script>                <div id=\"c370b209-dea5-408c-bebd-fd4455a8481c\" class=\"plotly-graph-div\" style=\"height:525px; width:100%;\"></div>            <script type=\"text/javascript\">                                    window.PLOTLYENV=window.PLOTLYENV || {};                                    if (document.getElementById(\"c370b209-dea5-408c-bebd-fd4455a8481c\")) {                    Plotly.newPlot(                        \"c370b209-dea5-408c-bebd-fd4455a8481c\",                        [{\"alignmentgroup\":\"True\",\"hovertemplate\":\"Site=%{x}\\u003cbr\\u003eTemperature_C=%{y}\\u003cextra\\u003e\\u003c\\u002fextra\\u003e\",\"legendgroup\":\"\",\"marker\":{\"color\":\"#636efa\",\"pattern\":{\"shape\":\"\"}},\"name\":\"\",\"offsetgroup\":\"\",\"orientation\":\"v\",\"showlegend\":false,\"textposition\":\"auto\",\"x\":[\"DC 1\",\"DC 2\",\"Store\",\"Transit\"],\"xaxis\":\"x\",\"y\":[23.055,24.944444444444443,23.81036250968242,25.251612903225805],\"yaxis\":\"y\",\"type\":\"bar\"}],                        {\"template\":{\"data\":{\"histogram2dcontour\":[{\"type\":\"histogram2dcontour\",\"colorbar\":{\"outlinewidth\":0,\"ticks\":\"\"},\"colorscale\":[[0.0,\"#0d0887\"],[0.1111111111111111,\"#46039f\"],[0.2222222222222222,\"#7201a8\"],[0.3333333333333333,\"#9c179e\"],[0.4444444444444444,\"#bd3786\"],[0.5555555555555556,\"#d8576b\"],[0.6666666666666666,\"#ed7953\"],[0.7777777777777778,\"#fb9f3a\"],[0.8888888888888888,\"#fdca26\"],[1.0,\"#f0f921\"]]}],\"choropleth\":[{\"type\":\"choropleth\",\"colorbar\":{\"outlinewidth\":0,\"ticks\":\"\"}}],\"histogram2d\":[{\"type\":\"histogram2d\",\"colorbar\":{\"outlinewidth\":0,\"ticks\":\"\"},\"colorscale\":[[0.0,\"#0d0887\"],[0.1111111111111111,\"#46039f\"],[0.2222222222222222,\"#7201a8\"],[0.3333333333333333,\"#9c179e\"],[0.4444444444444444,\"#bd3786\"],[0.5555555555555556,\"#d8576b\"],[0.6666666666666666,\"#ed7953\"],[0.7777777777777778,\"#fb9f3a\"],[0.8888888888888888,\"#fdca26\"],[1.0,\"#f0f921\"]]}],\"heatmap\":[{\"type\":\"heatmap\",\"colorbar\":{\"outlinewidth\":0,\"ticks\":\"\"},\"colorscale\":[[0.0,\"#0d0887\"],[0.1111111111111111,\"#46039f\"],[0.2222222222222222,\"#7201a8\"],[0.3333333333333333,\"#9c179e\"],[0.4444444444444444,\"#bd3786\"],[0.5555555555555556,\"#d8576b\"],[0.6666666666666666,\"#ed7953\"],[0.7777777777777778,\"#fb9f3a\"],[0.8888888888888888,\"#fdca26\"],[1.0,\"#f0f921\"]]}],\"heatmapgl\":[{\"type\":\"heatmapgl\",\"colorbar\":{\"outlinewidth\":0,\"ticks\":\"\"},\"colorscale\":[[0.0,\"#0d0887\"],[0.1111111111111111,\"#46039f\"],[0.2222222222222222,\"#7201a8\"],[0.3333333333333333,\"#9c179e\"],[0.4444444444444444,\"#bd3786\"],[0.5555555555555556,\"#d8576b\"],[0.6666666666666666,\"#ed7953\"],[0.7777777777777778,\"#fb9f3a\"],[0.8888888888888888,\"#fdca26\"],[1.0,\"#f0f921\"]]}],\"contourcarpet\":[{\"type\":\"contourcarpet\",\"colorbar\":{\"outlinewidth\":0,\"ticks\":\"\"}}],\"contour\":[{\"type\":\"contour\",\"colorbar\":{\"outlinewidth\":0,\"ticks\":\"\"},\"colorscale\":[[0.0,\"#0d0887\"],[0.1111111111111111,\"#46039f\"],[0.2222222222222222,\"#7201a8\"],[0.3333333333333333,\"#9c179e\"],[0.4444444444444444,\"#bd3786\"],[0.5555555555555556,\"#d8576b\"],[0.6666666666666666,\"#ed7953\"],[0.7777777777777778,\"#fb9f3a\"],[0.8888888888888888,\"#fdca26\"],[1.0,\"#f0f921\"]]}],\"surface\":[{\"type\":\"surface\",\"colorbar\":{\"outlinewidth\":0,\"ticks\":\"\"},\"colorscale\":[[0.0,\"#0d0887\"],[0.1111111111111111,\"#46039f\"],[0.2222222222222222,\"#7201a8\"],[0.3333333333333333,\"#9c179e\"],[0.4444444444444444,\"#bd3786\"],[0.5555555555555556,\"#d8576b\"],[0.6666666666666666,\"#ed7953\"],[0.7777777777777778,\"#fb9f3a\"],[0.8888888888888888,\"#fdca26\"],[1.0,\"#f0f921\"]]}],\"mesh3d\":[{\"type\":\"mesh3d\",\"colorbar\":{\"outlinewidth\":0,\"ticks\":\"\"}}],\"scatter\":[{\"fillpattern\":{\"fillmode\":\"overlay\",\"size\":10,\"solidity\":0.2},\"type\":\"scatter\"}],\"parcoords\":[{\"type\":\"parcoords\",\"line\":{\"colorbar\":{\"outlinewidth\":0,\"ticks\":\"\"}}}],\"scatterpolargl\":[{\"type\":\"scatterpolargl\",\"marker\":{\"colorbar\":{\"outlinewidth\":0,\"ticks\":\"\"}}}],\"bar\":[{\"error_x\":{\"color\":\"#2a3f5f\"},\"error_y\":{\"color\":\"#2a3f5f\"},\"marker\":{\"line\":{\"color\":\"#E5ECF6\",\"width\":0.5},\"pattern\":{\"fillmode\":\"overlay\",\"size\":10,\"solidity\":0.2}},\"type\":\"bar\"}],\"scattergeo\":[{\"type\":\"scattergeo\",\"marker\":{\"colorbar\":{\"outlinewidth\":0,\"ticks\":\"\"}}}],\"scatterpolar\":[{\"type\":\"scatterpolar\",\"marker\":{\"colorbar\":{\"outlinewidth\":0,\"ticks\":\"\"}}}],\"histogram\":[{\"marker\":{\"pattern\":{\"fillmode\":\"overlay\",\"size\":10,\"solidity\":0.2}},\"type\":\"histogram\"}],\"scattergl\":[{\"type\":\"scattergl\",\"marker\":{\"colorbar\":{\"outlinewidth\":0,\"ticks\":\"\"}}}],\"scatter3d\":[{\"type\":\"scatter3d\",\"line\":{\"colorbar\":{\"outlinewidth\":0,\"ticks\":\"\"}},\"marker\":{\"colorbar\":{\"outlinewidth\":0,\"ticks\":\"\"}}}],\"scattermapbox\":[{\"type\":\"scattermapbox\",\"marker\":{\"colorbar\":{\"outlinewidth\":0,\"ticks\":\"\"}}}],\"scatterternary\":[{\"type\":\"scatterternary\",\"marker\":{\"colorbar\":{\"outlinewidth\":0,\"ticks\":\"\"}}}],\"scattercarpet\":[{\"type\":\"scattercarpet\",\"marker\":{\"colorbar\":{\"outlinewidth\":0,\"ticks\":\"\"}}}],\"carpet\":[{\"aaxis\":{\"endlinecolor\":\"#2a3f5f\",\"gridcolor\":\"white\",\"linecolor\":\"white\",\"minorgridcolor\":\"white\",\"startlinecolor\":\"#2a3f5f\"},\"baxis\":{\"endlinecolor\":\"#2a3f5f\",\"gridcolor\":\"white\",\"linecolor\":\"white\",\"minorgridcolor\":\"white\",\"startlinecolor\":\"#2a3f5f\"},\"type\":\"carpet\"}],\"table\":[{\"cells\":{\"fill\":{\"color\":\"#EBF0F8\"},\"line\":{\"color\":\"white\"}},\"header\":{\"fill\":{\"color\":\"#C8D4E3\"},\"line\":{\"color\":\"white\"}},\"type\":\"table\"}],\"barpolar\":[{\"marker\":{\"line\":{\"color\":\"#E5ECF6\",\"width\":0.5},\"pattern\":{\"fillmode\":\"overlay\",\"size\":10,\"solidity\":0.2}},\"type\":\"barpolar\"}],\"pie\":[{\"automargin\":true,\"type\":\"pie\"}]},\"layout\":{\"autotypenumbers\":\"strict\",\"colorway\":[\"#636efa\",\"#EF553B\",\"#00cc96\",\"#ab63fa\",\"#FFA15A\",\"#19d3f3\",\"#FF6692\",\"#B6E880\",\"#FF97FF\",\"#FECB52\"],\"font\":{\"color\":\"#2a3f5f\"},\"hovermode\":\"closest\",\"hoverlabel\":{\"align\":\"left\"},\"paper_bgcolor\":\"white\",\"plot_bgcolor\":\"#E5ECF6\",\"polar\":{\"bgcolor\":\"#E5ECF6\",\"angularaxis\":{\"gridcolor\":\"white\",\"linecolor\":\"white\",\"ticks\":\"\"},\"radialaxis\":{\"gridcolor\":\"white\",\"linecolor\":\"white\",\"ticks\":\"\"}},\"ternary\":{\"bgcolor\":\"#E5ECF6\",\"aaxis\":{\"gridcolor\":\"white\",\"linecolor\":\"white\",\"ticks\":\"\"},\"baxis\":{\"gridcolor\":\"white\",\"linecolor\":\"white\",\"ticks\":\"\"},\"caxis\":{\"gridcolor\":\"white\",\"linecolor\":\"white\",\"ticks\":\"\"}},\"coloraxis\":{\"colorbar\":{\"outlinewidth\":0,\"ticks\":\"\"}},\"colorscale\":{\"sequential\":[[0.0,\"#0d0887\"],[0.1111111111111111,\"#46039f\"],[0.2222222222222222,\"#7201a8\"],[0.3333333333333333,\"#9c179e\"],[0.4444444444444444,\"#bd3786\"],[0.5555555555555556,\"#d8576b\"],[0.6666666666666666,\"#ed7953\"],[0.7777777777777778,\"#fb9f3a\"],[0.8888888888888888,\"#fdca26\"],[1.0,\"#f0f921\"]],\"sequentialminus\":[[0.0,\"#0d0887\"],[0.1111111111111111,\"#46039f\"],[0.2222222222222222,\"#7201a8\"],[0.3333333333333333,\"#9c179e\"],[0.4444444444444444,\"#bd3786\"],[0.5555555555555556,\"#d8576b\"],[0.6666666666666666,\"#ed7953\"],[0.7777777777777778,\"#fb9f3a\"],[0.8888888888888888,\"#fdca26\"],[1.0,\"#f0f921\"]],\"diverging\":[[0,\"#8e0152\"],[0.1,\"#c51b7d\"],[0.2,\"#de77ae\"],[0.3,\"#f1b6da\"],[0.4,\"#fde0ef\"],[0.5,\"#f7f7f7\"],[0.6,\"#e6f5d0\"],[0.7,\"#b8e186\"],[0.8,\"#7fbc41\"],[0.9,\"#4d9221\"],[1,\"#276419\"]]},\"xaxis\":{\"gridcolor\":\"white\",\"linecolor\":\"white\",\"ticks\":\"\",\"title\":{\"standoff\":15},\"zerolinecolor\":\"white\",\"automargin\":true,\"zerolinewidth\":2},\"yaxis\":{\"gridcolor\":\"white\",\"linecolor\":\"white\",\"ticks\":\"\",\"title\":{\"standoff\":15},\"zerolinecolor\":\"white\",\"automargin\":true,\"zerolinewidth\":2},\"scene\":{\"xaxis\":{\"backgroundcolor\":\"#E5ECF6\",\"gridcolor\":\"white\",\"linecolor\":\"white\",\"showbackground\":true,\"ticks\":\"\",\"zerolinecolor\":\"white\",\"gridwidth\":2},\"yaxis\":{\"backgroundcolor\":\"#E5ECF6\",\"gridcolor\":\"white\",\"linecolor\":\"white\",\"showbackground\":true,\"ticks\":\"\",\"zerolinecolor\":\"white\",\"gridwidth\":2},\"zaxis\":{\"backgroundcolor\":\"#E5ECF6\",\"gridcolor\":\"white\",\"linecolor\":\"white\",\"showbackground\":true,\"ticks\":\"\",\"zerolinecolor\":\"white\",\"gridwidth\":2}},\"shapedefaults\":{\"line\":{\"color\":\"#2a3f5f\"}},\"annotationdefaults\":{\"arrowcolor\":\"#2a3f5f\",\"arrowhead\":0,\"arrowwidth\":1},\"geo\":{\"bgcolor\":\"white\",\"landcolor\":\"#E5ECF6\",\"subunitcolor\":\"white\",\"showland\":true,\"showlakes\":true,\"lakecolor\":\"white\"},\"title\":{\"x\":0.05},\"mapbox\":{\"style\":\"light\"}}},\"xaxis\":{\"anchor\":\"y\",\"domain\":[0.0,1.0],\"title\":{\"text\":\"Zona\"}},\"yaxis\":{\"anchor\":\"x\",\"domain\":[0.0,1.0],\"title\":{\"text\":\"Temperatura\"}},\"legend\":{\"tracegroupgap\":0},\"margin\":{\"t\":60},\"barmode\":\"relative\",\"title\":{\"text\":\"Temperatura de Caja con ID 2 a traves de las zonas\"}},                        {\"responsive\": true}                    ).then(function(){\n",
              "                            \n",
              "var gd = document.getElementById('c370b209-dea5-408c-bebd-fd4455a8481c');\n",
              "var x = new MutationObserver(function (mutations, observer) {{\n",
              "        var display = window.getComputedStyle(gd).display;\n",
              "        if (!display || display === 'none') {{\n",
              "            console.log([gd, 'removed!']);\n",
              "            Plotly.purge(gd);\n",
              "            observer.disconnect();\n",
              "        }}\n",
              "}});\n",
              "\n",
              "// Listen for the removal of the full notebook cells\n",
              "var notebookContainer = gd.closest('#notebook-container');\n",
              "if (notebookContainer) {{\n",
              "    x.observe(notebookContainer, {childList: true});\n",
              "}}\n",
              "\n",
              "// Listen for the clearing of the current output cell\n",
              "var outputEl = gd.closest('.output');\n",
              "if (outputEl) {{\n",
              "    x.observe(outputEl, {childList: true});\n",
              "}}\n",
              "\n",
              "                        })                };                            </script>        </div>\n",
              "</body>\n",
              "</html>"
            ]
          },
          "metadata": {}
        }
      ]
    },
    {
      "cell_type": "markdown",
      "metadata": {
        "id": "jq6sZbij4n5g"
      },
      "source": [
        "### Question 5:\n",
        "* Visualize the lon lat data on a map to show how the case traveled.  You may incorporate any other additional information to make this more impactful. Imagine that this would be included in your presentation to the customer. (Non techical audience) (5 pts)\n",
        "\n",
        "**Do not worry if this looks like non-sense on a map.  Ex:  The trip may appear to occur over water or in a forest because this is a toy dataset.**"
      ]
    },
    {
      "cell_type": "code",
      "execution_count": null,
      "metadata": {
        "id": "S0NrgqkM5a3m"
      },
      "outputs": [],
      "source": [
        "# YOUR CODE HERE:\n",
        "import seaborn as sns"
      ]
    },
    {
      "cell_type": "code",
      "source": [],
      "metadata": {
        "id": "-S-xXQGJWaxa"
      },
      "execution_count": null,
      "outputs": []
    },
    {
      "cell_type": "markdown",
      "metadata": {
        "id": "V5nvTftA3IrL"
      },
      "source": [
        "# Part 3: Customer Questions\n"
      ]
    },
    {
      "cell_type": "markdown",
      "metadata": {
        "id": "RLBee4li3gZ5"
      },
      "source": [
        "### Question 6:\n",
        "\n",
        "The customer wants to understand the efficieny of ther DC operations.\n",
        "* Based on what you see in the data, (all zones except for STORE), which parts of their operation are most & least \"efficient? (10 pts)"
      ]
    },
    {
      "cell_type": "code",
      "source": [
        "df"
      ],
      "metadata": {
        "id": "YaNo6p_nPnkC"
      },
      "execution_count": null,
      "outputs": []
    },
    {
      "cell_type": "code",
      "execution_count": null,
      "metadata": {
        "id": "9Ad7Wwa23HzQ"
      },
      "outputs": [],
      "source": [
        "# YOUR CODE HERE\n",
        "df2=df[df.asset_id==2]\n",
        "df2"
      ]
    },
    {
      "cell_type": "code",
      "source": [
        "#Tiempo que estuvo la caja 2 en el sitio \"DC 1\"\n",
        "DC1= df2[df2['Site'] == 'DC 1'].time_est\n",
        "DC_1=DC1.sort_values()\n",
        "DC_1"
      ],
      "metadata": {
        "colab": {
          "base_uri": "https://localhost:8080/"
        },
        "id": "9idU9CVzN5mk",
        "outputId": "d31263ef-d15c-4ea4-9669-68791c31c400"
      },
      "execution_count": null,
      "outputs": [
        {
          "output_type": "execute_result",
          "data": {
            "text/plain": [
              "22     2022-08-02 10:59:58.887\n",
              "23     2022-08-02 11:00:27.633\n",
              "24     2022-08-02 11:16:33.564\n",
              "25     2022-08-02 11:17:25.682\n",
              "26     2022-08-02 11:18:11.883\n",
              "                 ...          \n",
              "1590   2022-08-02 13:43:59.699\n",
              "1591   2022-08-02 13:44:17.043\n",
              "19     2022-08-02 13:47:13.262\n",
              "3      2022-08-02 13:47:58.172\n",
              "20     2022-08-02 13:52:29.036\n",
              "Name: time_est, Length: 150, dtype: datetime64[ns]"
            ]
          },
          "metadata": {},
          "execution_count": 30
        }
      ]
    },
    {
      "cell_type": "code",
      "source": [
        "fDC1=DC_1[20]-DC_1[22]\n",
        "print('The time that box 2 was in DC 1 was:',fDC1)"
      ],
      "metadata": {
        "colab": {
          "base_uri": "https://localhost:8080/"
        },
        "id": "GTgsePeuRoS6",
        "outputId": "710d66ef-4354-4e82-9255-c38a97ea3d83"
      },
      "execution_count": null,
      "outputs": [
        {
          "output_type": "stream",
          "name": "stdout",
          "text": [
            "The time that box 2 was in DC 1 was: 0 days 02:52:30.149000\n"
          ]
        }
      ]
    },
    {
      "cell_type": "code",
      "source": [
        "#Tiempo que estuvo la caja 2 en el sitio \"DC 2\"\n",
        "DC2= df2[df2['Site'] == 'DC 2'].time_est\n",
        "DC_2=DC2.sort_values()\n",
        "DC_2"
      ],
      "metadata": {
        "colab": {
          "base_uri": "https://localhost:8080/"
        },
        "id": "5iyQtodSRCEe",
        "outputId": "dc538799-09f3-4396-9561-af011ed4d63c"
      },
      "execution_count": null,
      "outputs": [
        {
          "output_type": "execute_result",
          "data": {
            "text/plain": [
              "7      2022-08-03 10:59:28.892\n",
              "8      2022-08-03 12:48:11.580\n",
              "9      2022-08-03 13:02:29.755\n",
              "10     2022-08-03 13:07:22.071\n",
              "11     2022-08-03 13:19:10.666\n",
              "5      2022-08-03 13:22:09.038\n",
              "6      2022-08-03 13:26:07.080\n",
              "12     2022-08-03 13:44:18.548\n",
              "1608   2022-08-04 03:39:20.359\n",
              "Name: time_est, dtype: datetime64[ns]"
            ]
          },
          "metadata": {},
          "execution_count": 32
        }
      ]
    },
    {
      "cell_type": "code",
      "source": [
        "fDC2=DC_2[1608]-DC_2[7]\n",
        "print('Tiempo que estuvo la caja 2 en DC 2 fue de:',fDC2)"
      ],
      "metadata": {
        "colab": {
          "base_uri": "https://localhost:8080/"
        },
        "id": "Iqv7DYLNRcTj",
        "outputId": "009bdf5a-49fd-4e2e-9660-73f6aa54bb1d"
      },
      "execution_count": null,
      "outputs": [
        {
          "output_type": "stream",
          "name": "stdout",
          "text": [
            "Tiempo que estuvo la caja 2 en DC 2 fue de: 0 days 16:39:51.467000\n"
          ]
        }
      ]
    },
    {
      "cell_type": "markdown",
      "metadata": {
        "id": "KxsNLU4u4CT9"
      },
      "source": [
        "YOUR TEXT ANSWER HERE: La mas eficiente es el Sitio de DC 1"
      ]
    },
    {
      "cell_type": "markdown",
      "metadata": {
        "id": "BAR8MQnp4KhD"
      },
      "source": [
        "### Question 7:\n",
        "\n",
        "The customer wants to understand the stocking efficiency in stores.\n",
        "* Based on what you see in the data, how quickly did the store unload and stock the merchandise. (5 pts)\n",
        "* How could this be converted in a KPI that a regional manager could track?  (5 pts)"
      ]
    },
    {
      "cell_type": "code",
      "execution_count": null,
      "metadata": {
        "id": "6yLtvhHB4ECp",
        "colab": {
          "base_uri": "https://localhost:8080/"
        },
        "outputId": "f8249d8d-8964-4526-b20d-f72601d5ddce"
      },
      "outputs": [
        {
          "output_type": "execute_result",
          "data": {
            "text/plain": [
              "881    2022-08-04 08:35:16.191\n",
              "882    2022-08-04 08:35:46.500\n",
              "253    2022-08-04 08:35:59.046\n",
              "883    2022-08-04 08:36:17.077\n",
              "254    2022-08-04 08:36:17.140\n",
              "                 ...          \n",
              "1533   2022-08-05 13:26:39.605\n",
              "879    2022-08-05 13:27:15.800\n",
              "1534   2022-08-05 13:27:37.625\n",
              "1535   2022-08-05 13:28:16.376\n",
              "880    2022-08-05 13:28:24.536\n",
              "Name: time_est, Length: 6455, dtype: datetime64[ns]"
            ]
          },
          "metadata": {},
          "execution_count": 42
        }
      ],
      "source": [
        "# Tiempo que estuvo la caja 2 en Store\n",
        "stor= df2[df2['Site'] == 'Store'].time_est\n",
        "Sto=stor.sort_values()\n",
        "Sto"
      ]
    },
    {
      "cell_type": "code",
      "source": [
        "fSto=Sto[880]-Sto[881]\n",
        "print('The speed with which box 2 was downloaded in Store was:',fSto)"
      ],
      "metadata": {
        "colab": {
          "base_uri": "https://localhost:8080/"
        },
        "id": "ThnyRxKvdmQy",
        "outputId": "5fee5664-efa6-4895-e5cc-47a374ba2bf3"
      },
      "execution_count": null,
      "outputs": [
        {
          "output_type": "stream",
          "name": "stdout",
          "text": [
            "The speed with which box 2 was downloaded in Store was: 1 days 04:53:08.345000\n"
          ]
        }
      ]
    },
    {
      "cell_type": "markdown",
      "metadata": {
        "id": "FrFLqjpC51rd"
      },
      "source": [
        "YOUR TEXT ANSWER HERE: 2.-taking the unloading times of boxes and seeing if the unloading average is adequate"
      ]
    },
    {
      "cell_type": "code",
      "source": [],
      "metadata": {
        "id": "N7_QiXXykbKW"
      },
      "execution_count": null,
      "outputs": []
    },
    {
      "cell_type": "markdown",
      "metadata": {
        "id": "YY5cXCAlzX9M"
      },
      "source": [
        "### Question 8:\n",
        "\n",
        "Please explain what you would ask for and what you will do with this data, given that you can talk with the following people (no code needed):\n"
      ]
    },
    {
      "cell_type": "markdown",
      "metadata": {
        "id": "CsSJ9f2fzX9M"
      },
      "source": [
        "YOUR TEXT ANSWER HERE\n",
        "* a. X: What is the area where the boxes take the longest?\n",
        "* b. Y: First I would filter each box with its areas and times, to then obtain the total time of each area like this with all the boxes, to then compare and obtain the maximum time of the areas, and that would be the time where it took the longest"
      ]
    },
    {
      "cell_type": "markdown",
      "metadata": {
        "id": "U-xbReWjr-_B"
      },
      "source": [
        "## Part 4: Bonus Insights"
      ]
    },
    {
      "cell_type": "markdown",
      "metadata": {
        "id": "XslflGXnsDAF"
      },
      "source": [
        "### Question 8\n",
        "\n",
        "The customer is open to hearing about additional insights you found in the data above and beyond what they asked for.\n",
        "* Based on what you can see in the data, are there any other interesting insights that the customer may want to hear about? (Up to 15 bonus points)\n",
        "\n"
      ]
    },
    {
      "cell_type": "code",
      "execution_count": null,
      "metadata": {
        "id": "CWpCSu8lsCJL"
      },
      "outputs": [],
      "source": [
        "# YOUR CODE HERE\n",
        "# Another metrics that could be interesting would be temperature by time"
      ]
    },
    {
      "cell_type": "markdown",
      "metadata": {
        "id": "EbkD8dTBuuj4"
      },
      "source": [
        "YOUR TEXT ANSWER HERE\n"
      ]
    }
  ],
  "metadata": {
    "colab": {
      "provenance": [],
      "include_colab_link": true
    },
    "kernelspec": {
      "display_name": "Python 3.10.5 64-bit",
      "language": "python",
      "name": "python3"
    },
    "language_info": {
      "codemirror_mode": {
        "name": "ipython",
        "version": 3
      },
      "file_extension": ".py",
      "mimetype": "text/x-python",
      "name": "python",
      "nbconvert_exporter": "python",
      "pygments_lexer": "ipython3",
      "version": "3.10.5"
    },
    "vscode": {
      "interpreter": {
        "hash": "aee8b7b246df8f9039afb4144a1f6fd8d2ca17a180786b69acc140d282b71a49"
      }
    }
  },
  "nbformat": 4,
  "nbformat_minor": 0
}